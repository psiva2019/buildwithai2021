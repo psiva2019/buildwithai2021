{
 "cells": [
  {
   "cell_type": "code",
   "execution_count": null,
   "metadata": {
    "id": "1Y2grqJbA5WK"
   },
   "outputs": [],
   "source": [
    "!pip install sidetable\n",
    "!pip install tabulate\n",
    "\n",
    "sns.__version__"
   ]
  },
  {
   "cell_type": "code",
   "execution_count": 1,
   "metadata": {
    "id": "D2xM3Jmw-ipG"
   },
   "outputs": [],
   "source": [
    "import pandas as pd;import warnings\n",
    "warnings.filterwarnings('ignore')\n",
    "\n",
    "import pandas as pd\n",
    "import numpy as np\n",
    "import seaborn as sns\n",
    "import matplotlib.pyplot as plt\n",
    "\n",
    "import sidetable as stb\n",
    "\n",
    "from IPython.display import HTML, display\n",
    "import tabulate\n",
    "import re\n",
    "%matplotlib inline"
   ]
  },
  {
   "cell_type": "code",
   "execution_count": null,
   "metadata": {},
   "outputs": [],
   "source": [
    "#df1 = pd.read_csv(\"new11.csv\")\n",
    "#df1.head()"
   ]
  },
  {
   "cell_type": "code",
   "execution_count": null,
   "metadata": {},
   "outputs": [],
   "source": [
    "#df1 = df1.drop_duplicates()"
   ]
  },
  {
   "cell_type": "code",
   "execution_count": null,
   "metadata": {},
   "outputs": [],
   "source": [
    "#df2 = pd.read_csv(\"new4.csv\")\n",
    "#df2.head()"
   ]
  },
  {
   "cell_type": "code",
   "execution_count": null,
   "metadata": {},
   "outputs": [],
   "source": [
    "##df1.rename(columns = {'date': 'date_assignment'},inplace=True)"
   ]
  },
  {
   "cell_type": "code",
   "execution_count": null,
   "metadata": {},
   "outputs": [],
   "source": [
    "#df1.drop(['week_from','week_to'],axis=1,inplace=True)"
   ]
  },
  {
   "cell_type": "code",
   "execution_count": null,
   "metadata": {},
   "outputs": [],
   "source": [
    "#df1.info()"
   ]
  },
  {
   "cell_type": "code",
   "execution_count": null,
   "metadata": {},
   "outputs": [],
   "source": [
    "#df2.info()"
   ]
  },
  {
   "cell_type": "code",
   "execution_count": null,
   "metadata": {},
   "outputs": [],
   "source": [
    "#df1_index = df1.set_index(['code_module','code_presentation','id_student'])"
   ]
  },
  {
   "cell_type": "code",
   "execution_count": null,
   "metadata": {},
   "outputs": [],
   "source": [
    "#df2_index = df2.set_index(['code_module','code_presentation','id_student'])"
   ]
  },
  {
   "cell_type": "code",
   "execution_count": null,
   "metadata": {},
   "outputs": [],
   "source": [
    "#df3_index = df1_index.join(df2_index,how='inner')"
   ]
  },
  {
   "cell_type": "code",
   "execution_count": null,
   "metadata": {},
   "outputs": [],
   "source": [
    "#df3_index.shape"
   ]
  },
  {
   "cell_type": "code",
   "execution_count": null,
   "metadata": {},
   "outputs": [],
   "source": [
    "#df3 = df1.merge(df2,how='left',on=['code_module','code_presentation','id_student'])"
   ]
  },
  {
   "cell_type": "code",
   "execution_count": null,
   "metadata": {},
   "outputs": [],
   "source": [
    "#df3.shape"
   ]
  },
  {
   "cell_type": "code",
   "execution_count": null,
   "metadata": {},
   "outputs": [],
   "source": [
    "#df4 = df3.sample(frac=0.002)"
   ]
  },
  {
   "cell_type": "code",
   "execution_count": null,
   "metadata": {},
   "outputs": [],
   "source": [
    "#df4['code_module'].value_counts()"
   ]
  },
  {
   "cell_type": "code",
   "execution_count": null,
   "metadata": {},
   "outputs": [],
   "source": [
    "##df4.shape"
   ]
  },
  {
   "cell_type": "code",
   "execution_count": null,
   "metadata": {},
   "outputs": [],
   "source": [
    "#df4.to_csv('finalds.csv',index=False)"
   ]
  },
  {
   "cell_type": "code",
   "execution_count": null,
   "metadata": {},
   "outputs": [],
   "source": [
    "#df=df4"
   ]
  },
  {
   "cell_type": "markdown",
   "metadata": {
    "id": "me5UFTK8-ipP"
   },
   "source": [
    "## Read the data to Pandas Data Frame"
   ]
  },
  {
   "cell_type": "code",
   "execution_count": 2,
   "metadata": {
    "colab": {
     "base_uri": "https://localhost:8080/",
     "height": 292
    },
    "id": "WnziSl7Y-ipQ",
    "outputId": "966f7a18-b7b5-4346-d418-70ea38eab0b1"
   },
   "outputs": [
    {
     "data": {
      "text/html": [
       "<div>\n",
       "<style scoped>\n",
       "    .dataframe tbody tr th:only-of-type {\n",
       "        vertical-align: middle;\n",
       "    }\n",
       "\n",
       "    .dataframe tbody tr th {\n",
       "        vertical-align: top;\n",
       "    }\n",
       "\n",
       "    .dataframe thead th {\n",
       "        text-align: right;\n",
       "    }\n",
       "</style>\n",
       "<table border=\"1\" class=\"dataframe\">\n",
       "  <thead>\n",
       "    <tr style=\"text-align: right;\">\n",
       "      <th></th>\n",
       "      <th>code_module</th>\n",
       "      <th>code_presentation</th>\n",
       "      <th>id_student</th>\n",
       "      <th>id_site</th>\n",
       "      <th>date_assignment</th>\n",
       "      <th>sum_click</th>\n",
       "      <th>activity_type</th>\n",
       "      <th>id_assessment</th>\n",
       "      <th>assessment_type</th>\n",
       "      <th>weight</th>\n",
       "      <th>...</th>\n",
       "      <th>region</th>\n",
       "      <th>highest_education</th>\n",
       "      <th>imd_band</th>\n",
       "      <th>age_band</th>\n",
       "      <th>num_of_prev_attempts</th>\n",
       "      <th>studied_credits</th>\n",
       "      <th>disability</th>\n",
       "      <th>final_result</th>\n",
       "      <th>date_registration</th>\n",
       "      <th>date_unregistration</th>\n",
       "    </tr>\n",
       "  </thead>\n",
       "  <tbody>\n",
       "    <tr>\n",
       "      <th>0</th>\n",
       "      <td>FFF</td>\n",
       "      <td>2013J</td>\n",
       "      <td>601180</td>\n",
       "      <td>716643</td>\n",
       "      <td>153</td>\n",
       "      <td>1</td>\n",
       "      <td>subpage</td>\n",
       "      <td>34873</td>\n",
       "      <td>TMA</td>\n",
       "      <td>12.5</td>\n",
       "      <td>...</td>\n",
       "      <td>Scotland</td>\n",
       "      <td>HE Qualification</td>\n",
       "      <td>70-80%</td>\n",
       "      <td>35-55</td>\n",
       "      <td>0</td>\n",
       "      <td>60</td>\n",
       "      <td>N</td>\n",
       "      <td>Withdrawn</td>\n",
       "      <td>-45.0</td>\n",
       "      <td>186.0</td>\n",
       "    </tr>\n",
       "    <tr>\n",
       "      <th>1</th>\n",
       "      <td>DDD</td>\n",
       "      <td>2013B</td>\n",
       "      <td>369908</td>\n",
       "      <td>547945</td>\n",
       "      <td>140</td>\n",
       "      <td>1</td>\n",
       "      <td>subpage</td>\n",
       "      <td>25346</td>\n",
       "      <td>CMA</td>\n",
       "      <td>3.0</td>\n",
       "      <td>...</td>\n",
       "      <td>Scotland</td>\n",
       "      <td>HE Qualification</td>\n",
       "      <td>70-80%</td>\n",
       "      <td>35-55</td>\n",
       "      <td>0</td>\n",
       "      <td>60</td>\n",
       "      <td>N</td>\n",
       "      <td>Pass</td>\n",
       "      <td>-82.0</td>\n",
       "      <td>NaN</td>\n",
       "    </tr>\n",
       "    <tr>\n",
       "      <th>2</th>\n",
       "      <td>EEE</td>\n",
       "      <td>2014B</td>\n",
       "      <td>485920</td>\n",
       "      <td>790934</td>\n",
       "      <td>102</td>\n",
       "      <td>1</td>\n",
       "      <td>url</td>\n",
       "      <td>30714</td>\n",
       "      <td>TMA</td>\n",
       "      <td>16.0</td>\n",
       "      <td>...</td>\n",
       "      <td>East Anglian Region</td>\n",
       "      <td>Lower Than A Level</td>\n",
       "      <td>60-70%</td>\n",
       "      <td>0-35</td>\n",
       "      <td>0</td>\n",
       "      <td>30</td>\n",
       "      <td>N</td>\n",
       "      <td>Pass</td>\n",
       "      <td>-22.0</td>\n",
       "      <td>NaN</td>\n",
       "    </tr>\n",
       "    <tr>\n",
       "      <th>3</th>\n",
       "      <td>DDD</td>\n",
       "      <td>2013B</td>\n",
       "      <td>2501479</td>\n",
       "      <td>547816</td>\n",
       "      <td>1</td>\n",
       "      <td>2</td>\n",
       "      <td>url</td>\n",
       "      <td>25343</td>\n",
       "      <td>CMA</td>\n",
       "      <td>3.0</td>\n",
       "      <td>...</td>\n",
       "      <td>Scotland</td>\n",
       "      <td>HE Qualification</td>\n",
       "      <td>40-50%</td>\n",
       "      <td>35-55</td>\n",
       "      <td>0</td>\n",
       "      <td>60</td>\n",
       "      <td>N</td>\n",
       "      <td>Fail</td>\n",
       "      <td>-24.0</td>\n",
       "      <td>NaN</td>\n",
       "    </tr>\n",
       "    <tr>\n",
       "      <th>4</th>\n",
       "      <td>DDD</td>\n",
       "      <td>2013J</td>\n",
       "      <td>498821</td>\n",
       "      <td>673519</td>\n",
       "      <td>-15</td>\n",
       "      <td>1</td>\n",
       "      <td>homepage</td>\n",
       "      <td>25348</td>\n",
       "      <td>TMA</td>\n",
       "      <td>10.0</td>\n",
       "      <td>...</td>\n",
       "      <td>Yorkshire Region</td>\n",
       "      <td>Lower Than A Level</td>\n",
       "      <td>20-30%</td>\n",
       "      <td>0-35</td>\n",
       "      <td>0</td>\n",
       "      <td>60</td>\n",
       "      <td>N</td>\n",
       "      <td>Pass</td>\n",
       "      <td>-203.0</td>\n",
       "      <td>NaN</td>\n",
       "    </tr>\n",
       "  </tbody>\n",
       "</table>\n",
       "<p>5 rows × 25 columns</p>\n",
       "</div>"
      ],
      "text/plain": [
       "  code_module code_presentation  id_student  id_site  date_assignment  \\\n",
       "0         FFF             2013J      601180   716643              153   \n",
       "1         DDD             2013B      369908   547945              140   \n",
       "2         EEE             2014B      485920   790934              102   \n",
       "3         DDD             2013B     2501479   547816                1   \n",
       "4         DDD             2013J      498821   673519              -15   \n",
       "\n",
       "   sum_click activity_type  id_assessment assessment_type  weight  ...  \\\n",
       "0          1       subpage          34873             TMA    12.5  ...   \n",
       "1          1       subpage          25346             CMA     3.0  ...   \n",
       "2          1           url          30714             TMA    16.0  ...   \n",
       "3          2           url          25343             CMA     3.0  ...   \n",
       "4          1      homepage          25348             TMA    10.0  ...   \n",
       "\n",
       "                region   highest_education  imd_band  age_band  \\\n",
       "0             Scotland    HE Qualification    70-80%     35-55   \n",
       "1             Scotland    HE Qualification    70-80%     35-55   \n",
       "2  East Anglian Region  Lower Than A Level    60-70%      0-35   \n",
       "3             Scotland    HE Qualification    40-50%     35-55   \n",
       "4     Yorkshire Region  Lower Than A Level    20-30%      0-35   \n",
       "\n",
       "  num_of_prev_attempts studied_credits disability final_result  \\\n",
       "0                    0              60          N    Withdrawn   \n",
       "1                    0              60          N         Pass   \n",
       "2                    0              30          N         Pass   \n",
       "3                    0              60          N         Fail   \n",
       "4                    0              60          N         Pass   \n",
       "\n",
       "  date_registration  date_unregistration  \n",
       "0             -45.0                186.0  \n",
       "1             -82.0                  NaN  \n",
       "2             -22.0                  NaN  \n",
       "3             -24.0                  NaN  \n",
       "4            -203.0                  NaN  \n",
       "\n",
       "[5 rows x 25 columns]"
      ]
     },
     "execution_count": 2,
     "metadata": {},
     "output_type": "execute_result"
    }
   ],
   "source": [
    "df = pd.read_csv(\"finalds.csv\")\n",
    "df.head()"
   ]
  },
  {
   "cell_type": "markdown",
   "metadata": {
    "id": "uwQo31wf-ipT"
   },
   "source": [
    "## Data Report"
   ]
  },
  {
   "cell_type": "code",
   "execution_count": 3,
   "metadata": {
    "colab": {
     "base_uri": "https://localhost:8080/"
    },
    "id": "WpgyFFnb-ipU",
    "outputId": "c7bce7a5-92db-4031-dc22-87ed1896cad9"
   },
   "outputs": [
    {
     "name": "stdout",
     "output_type": "stream",
     "text": [
      "****Shape of the hotel data****\n",
      "********************************\n",
      "No of rows\t:\t165109\n",
      "No of columns\t:\t25\n"
     ]
    }
   ],
   "source": [
    "#Shape of the Data\n",
    "print('****Shape of the hotel data****')\n",
    "print('********************************')\n",
    "print('No of rows\\t:\\t{}\\nNo of columns\\t:\\t{}'.format(df.shape[0],df.shape[1]))"
   ]
  },
  {
   "cell_type": "code",
   "execution_count": 4,
   "metadata": {
    "colab": {
     "base_uri": "https://localhost:8080/"
    },
    "id": "csPUG3yx-ipV",
    "outputId": "aa35d3c4-f388-484b-81cc-763015b7a32d"
   },
   "outputs": [
    {
     "name": "stdout",
     "output_type": "stream",
     "text": [
      "****Show infomation of the train data****\n",
      "***********************************\n",
      "<class 'pandas.core.frame.DataFrame'>\n",
      "RangeIndex: 165109 entries, 0 to 165108\n",
      "Data columns (total 25 columns):\n",
      " #   Column                      Non-Null Count   Dtype  \n",
      "---  ------                      --------------   -----  \n",
      " 0   code_module                 165109 non-null  object \n",
      " 1   code_presentation           165109 non-null  object \n",
      " 2   id_student                  165109 non-null  int64  \n",
      " 3   id_site                     165109 non-null  int64  \n",
      " 4   date_assignment             165109 non-null  int64  \n",
      " 5   sum_click                   165109 non-null  int64  \n",
      " 6   activity_type               165109 non-null  object \n",
      " 7   id_assessment               165109 non-null  int64  \n",
      " 8   assessment_type             165109 non-null  object \n",
      " 9   weight                      165109 non-null  float64\n",
      " 10  module_presentation_length  165109 non-null  int64  \n",
      " 11  date_submitted              165109 non-null  int64  \n",
      " 12  is_banked                   165109 non-null  int64  \n",
      " 13  score                       165029 non-null  float64\n",
      " 14  gender                      165109 non-null  object \n",
      " 15  region                      165109 non-null  object \n",
      " 16  highest_education           165109 non-null  object \n",
      " 17  imd_band                    155029 non-null  object \n",
      " 18  age_band                    165109 non-null  object \n",
      " 19  num_of_prev_attempts        165109 non-null  int64  \n",
      " 20  studied_credits             165109 non-null  int64  \n",
      " 21  disability                  165109 non-null  object \n",
      " 22  final_result                165109 non-null  object \n",
      " 23  date_registration           165108 non-null  float64\n",
      " 24  date_unregistration         6013 non-null    float64\n",
      "dtypes: float64(4), int64(10), object(11)\n",
      "memory usage: 31.5+ MB\n"
     ]
    }
   ],
   "source": [
    "print('****Show infomation of the train data****')\n",
    "print('***********************************')\n",
    "df.info()"
   ]
  },
  {
   "cell_type": "code",
   "execution_count": 5,
   "metadata": {
    "colab": {
     "base_uri": "https://localhost:8080/"
    },
    "id": "bQ-Hx5ng-ipW",
    "outputId": "c7cd0057-5578-495b-f36e-72c770478cc8"
   },
   "outputs": [
    {
     "name": "stdout",
     "output_type": "stream",
     "text": [
      "****Duplicates data in the train dataset without EmployeeID Column****\n",
      "**********************************************************************\n",
      "There is no duplicate values in the data.\n"
     ]
    }
   ],
   "source": [
    "#Check for duplicate values\n",
    "print('****Duplicates data in the train dataset without EmployeeID Column****')\n",
    "print('**********************************************************************')\n",
    "\n",
    "dups = df.loc[:, ~df.columns. isin(['EmployeeID'])].duplicated().sum()\n",
    "if dups ==0:\n",
    "    print('There is no duplicate values in the data.') \n",
    "else:\n",
    "    print('There are {} duplicates in the data which is {}% of total data'.format(dups,round((dups/df.shape[0])*100,2)))"
   ]
  },
  {
   "cell_type": "code",
   "execution_count": 6,
   "metadata": {
    "colab": {
     "base_uri": "https://localhost:8080/"
    },
    "id": "wbIYJ4ba-ipY",
    "outputId": "41b09097-a020-492c-c475-a2146073abc8"
   },
   "outputs": [
    {
     "name": "stdout",
     "output_type": "stream",
     "text": [
      "****Missing Values in the Dataset****\n",
      "*************************************\n",
      "80 Missing values in score which is 0.05% of total data (float64)\n",
      "10080 Missing values in imd_band which is 6.11% of total data (object)\n",
      "1 Missing values in date_registration which is 0.0% of total data (float64)\n",
      "159096 Missing values in date_unregistration which is 96.36% of total data (float64)\n"
     ]
    }
   ],
   "source": [
    "#Check for missing value\n",
    "print('****Missing Values in the Dataset****')\n",
    "print('*************************************')\n",
    "msv = df.isnull().sum()[df.isnull().sum()>0]\n",
    "if msv.empty:\n",
    "    print('There is no missing values in the data.') \n",
    "else:\n",
    "    for i in range(msv.count()):\n",
    "        print('{} Missing values in {} which is {}% of total data ({})'.format(msv[i],msv.index[i],round(((msv[i]/df.shape[0])*100),2),df[msv.index[i]].dtype))"
   ]
  },
  {
   "cell_type": "code",
   "execution_count": 7,
   "metadata": {
    "id": "y1OQDpsGnsb_"
   },
   "outputs": [],
   "source": [
    "def display_dataframe(df,dtypeval):\n",
    "    numeric_col_mask = df.dtypes.apply(lambda d: issubclass(np.dtype(d).type, dtypeval))\n",
    "\n",
    "    # Dict used to center the table headers\n",
    "    d = dict(selector=\"th\",\n",
    "        props=[('text-align', 'left')])\n",
    "\n",
    "    # Style\n",
    "    display(df.style.set_properties(subset=df.columns[numeric_col_mask], \n",
    "                            **{'width':'15em', 'height':'3em','text-align':'left','border-color':'White','border-width':'thin'})\\\n",
    "            .set_properties(subset=df.columns[~numeric_col_mask], \n",
    "                            **{'width':'15em', 'text-align':'left','border-color':'White','border-width':'thin'})\\\n",
    "            .format(lambda x: '{:,.0f}'.format(x) if x > 1e3 else '{:,.2f}'.format(x), # format the numeric values\n",
    "                    subset=pd.IndexSlice[:,df.columns[numeric_col_mask]])\\\n",
    "            .hide_index()\\\n",
    "\n",
    "#            .highlight_max('color: green')\\\n",
    "            .set_table_styles([d])) # center the header"
   ]
  },
  {
   "cell_type": "code",
   "execution_count": 8,
   "metadata": {
    "id": "85VPa95JaMhF"
   },
   "outputs": [],
   "source": [
    "def check_sp(Vars,fixit,data_df):\n",
    "  tot = len(Vars['num'])+len(Vars['chars'])\n",
    "\n",
    "  s = [[None for j in range(3)] for i in range(tot)]\n",
    "  i=0\n",
    "  for type_var in Vars:\n",
    "    for var in Vars[type_var]:\n",
    "      livars=[]\n",
    "      li=data_df[var].unique()\n",
    "      if(type_var=='num'):\n",
    "        livars = list(filter(lambda x: (str(x).replace('.','').isdigit()!=True and str(x)!='nan'),li))\n",
    "        if(fixit==True):\n",
    "          for k in livars:\n",
    "            data_df[var].replace(k,np.nan,inplace=True)\n",
    "      else:\n",
    "        li1 = list(filter(lambda x: (str(x).replace(' ','').isalpha()!=True and str(x)!='nan'),li))\n",
    "        pattern = r'\\W'\n",
    "        \n",
    "        li2 = []\n",
    "        for j in li1:\n",
    "          find = re.compile(pattern)\n",
    "          ff = find.findall(j.replace(' ',''))[0]\n",
    "          li2.append(ff)\n",
    "        livars = list(set(li2))\n",
    "      s[i][0] = var\n",
    "      s[i][1] = livars if(livars!=[]) else 'No Special Chars'\n",
    "      s[i][2] = 'Numeric' if(type_var=='num') else 'Charecter'\n",
    "      i=i+1\n",
    "  rdf = pd.DataFrame(data=s,columns=['Column','SpecialChars','DataType'])\n",
    "  return(rdf)"
   ]
  },
  {
   "cell_type": "code",
   "execution_count": 9,
   "metadata": {
    "colab": {
     "base_uri": "https://localhost:8080/",
     "height": 271
    },
    "id": "9yB7_nyYzgPH",
    "outputId": "b4bcbe22-7c8a-4a30-e031-33a861875dd6"
   },
   "outputs": [],
   "source": [
    "Vars = {'num': ['date_assignment',\n",
    "'sum_click',\n",
    "'weight',\n",
    "'module_presentation_length',\n",
    "'date_submitted',\n",
    "'score',\n",
    "'num_of_prev_attempts',\n",
    "'studied_credits',\n",
    "'date_registration',\n",
    "'date_unregistration'],\n",
    "\n",
    "'chars':['code_module',\n",
    "'code_presentation',\n",
    "'activity_type',\n",
    "'assessment_type',\n",
    "'region',\n",
    "'highest_education',\n",
    "'imd_band',\n",
    "'age_band','final_result'] }\n",
    "\n",
    "#spdf = check_sp(Vars,True,df)\n",
    "#display_dataframe(spdf,str)"
   ]
  },
  {
   "cell_type": "code",
   "execution_count": 10,
   "metadata": {
    "colab": {
     "base_uri": "https://localhost:8080/"
    },
    "id": "wp5EeP3R25w2",
    "outputId": "091ac7c3-a037-49d1-b9fc-f7df731c0f0c"
   },
   "outputs": [],
   "source": [
    "# df['account_segment'].value_counts()"
   ]
  },
  {
   "cell_type": "code",
   "execution_count": null,
   "metadata": {
    "colab": {
     "base_uri": "https://localhost:8080/"
    },
    "id": "pfJOU_iN3fFI",
    "outputId": "b1d1f13f-7e35-4f66-e6bc-c00983ea1546"
   },
   "outputs": [],
   "source": [
    "# df['Login_device'].value_counts()"
   ]
  },
  {
   "cell_type": "code",
   "execution_count": null,
   "metadata": {
    "id": "nocJQEHV4F2G"
   },
   "outputs": [],
   "source": [
    "# df['account_segment'].replace('Super +','Super Plus',inplace=True)\n",
    "# df['account_segment'].replace('Regular +','Regular Plus',inplace=True)\n",
    "# df['Login_device'].replace('&&&&','Mobile',inplace=True)\n",
    "\n",
    "# df['Gender'].replace('Male','M',inplace=True)\n",
    "# df['Gender'].replace('Female','F',inplace=True)"
   ]
  },
  {
   "cell_type": "code",
   "execution_count": null,
   "metadata": {
    "colab": {
     "base_uri": "https://localhost:8080/",
     "height": 271
    },
    "id": "SrahBuKmzgPS",
    "outputId": "de5d72f8-0d3b-454d-8d51-615c715f7bcc"
   },
   "outputs": [],
   "source": [
    "# spdf = check_sp(Vars,False,df)\n",
    "# display_dataframe(spdf,str)"
   ]
  },
  {
   "cell_type": "code",
   "execution_count": null,
   "metadata": {
    "id": "1NICdX1qATmS"
   },
   "outputs": [],
   "source": [
    "# Vars = {'num': ['Tenure','rev_per_month','cashback','CC_Contacted_LY'],'chars':['Complain_ly','CC_Agent_Score','Service_Score','City_Tier','Account_user_count','coupon_used_for_payment','Day_Since_CC_connect','account_segment','Payment','Gender','Marital_Status','Login_device'] }\n",
    "\n",
    "# for vars in Vars['chars']:\n",
    "#   df[vars].fillna(df[vars].mode()[0],inplace=True)\n",
    "\n",
    "# for vars in Vars['num']:\n",
    "#   df[vars].fillna(df[vars].median(),inplace=True)\n",
    "#   if(df[vars].dtype=='object'):\n",
    "#     df[vars] = df[vars].astype('int64')"
   ]
  },
  {
   "cell_type": "code",
   "execution_count": null,
   "metadata": {
    "colab": {
     "base_uri": "https://localhost:8080/"
    },
    "id": "B0lz4dh97x6v",
    "outputId": "d72357b0-334f-47a5-8b9a-51df7fca42f7"
   },
   "outputs": [],
   "source": [
    "# #Check for missing value\n",
    "# print('****Missing Values in the Dataset****')\n",
    "# print('*************************************')\n",
    "# msv = df.isnull().sum()[df.isnull().sum()>0]\n",
    "# if msv.empty:\n",
    "#     print('There is no missing values in the data.') \n",
    "# else:\n",
    "#     for i in range(msv.count()):\n",
    "#         print('{} Missing values in {} which is {}% of total data ({})'.format(msv[i],msv.index[i],round(((msv[i]/df.shape[0])*100),2),df[msv.index[i]].dtype))"
   ]
  },
  {
   "cell_type": "code",
   "execution_count": 11,
   "metadata": {
    "id": "is2tRmnjMdlK"
   },
   "outputs": [],
   "source": [
    "def unq_count_new(df,var,top_val,tit,dpn):\n",
    "    #var='meal'\n",
    "\n",
    "    if(top_val == 0):\n",
    "        perclass = pd.DataFrame(df[var].value_counts(normalize=True,dropna=dpn))\n",
    "        tardisval = pd.DataFrame(df[var].value_counts(dropna=dpn))\n",
    "    else:\n",
    "        perclass = pd.DataFrame(df[var].value_counts(normalize=True,dropna=dpn)[df[var].value_counts(dropna=dpn)>top_val])\n",
    "        tardisval = pd.DataFrame(df[var].value_counts(dropna=dpn)[df[var].value_counts(dropna=dpn)>top_val])\n",
    "        \n",
    "    disdf = pd.concat([tardisval,round(perclass*100,3)],axis=1)\n",
    "    disdf.reset_index()\n",
    "    disdf.columns=['Count','Percent']\n",
    "\n",
    "    str1 = f'**** Unique value distribution of {tit.title()} ******'\n",
    "\n",
    "    width = len(str1)\n",
    "    filler = '*'\n",
    "\n",
    "    print(str1)\n",
    "    print(f'{\"*\" :{filler}>{width}}\\n')\n",
    "\n",
    "    print(tabulate.tabulate(disdf, tablefmt='fancy_grid',headers=[tit.title(),'Count','Percent']))\n",
    "    #return (disdf)"
   ]
  },
  {
   "cell_type": "code",
   "execution_count": null,
   "metadata": {},
   "outputs": [],
   "source": [
    "# dff=df\n",
    "# typevar='char'\n",
    "# var='coupon_used_for_payment'\n",
    "# tar='Churn'\n",
    "# tit='coupon_used_for_payment'\n",
    "\n",
    "# textlab='# of Customers'\n",
    "# textlab_tar='# of Churn Customers'\n",
    "\n",
    "\n",
    "# result = dff.groupby([var])[tar].aggregate(np.sum).reset_index().sort_values(tar,ascending = False)\n",
    "# #print(result[result[tar]>0])\n",
    "# result = result[result[tar]>0]\n",
    "# b = sns.barplot(data=result, y=var,x=tar,orient='h',order=result[var])\n",
    "\n",
    "\n",
    "# b.set_frame_on(False)\n",
    "\n",
    "# b.set_ylabel('')\n",
    "# #b.set_ylabel(var,weight='bold')\n",
    "# b.set_xlabel(textlab_tar,weight='bold')\n",
    "\n",
    "# b.set_xticklabels([])\n",
    "# b.tick_params(bottom=False)\n",
    "# b.set_yticklabels(list(result[var].value_counts().index),weight='bold')\n",
    "# #b.set_yticklabels([])\n",
    "# maxwidth = dff[var].value_counts().max()\n",
    "# for p in b.patches:\n",
    "#     width = np.nan_to_num(p.get_width()) \n",
    "#     wdplace = width\n",
    "#     per = (width/dff.shape[0])*100\n",
    "#     wdplace = wdplace + maxwidth * 1/100\n",
    "    \n",
    "#     b.text(wdplace,\n",
    "#         p.get_y()+.5,\n",
    "#         '{} - ({:1.2f}%)'.format(round(width),(width/dff.shape[0])*100),\n",
    "#         ha=\"center\",weight='bold') "
   ]
  },
  {
   "cell_type": "code",
   "execution_count": null,
   "metadata": {},
   "outputs": [],
   "source": [
    "# dff=df\n",
    "# typevar='char'\n",
    "# var='coupon_used_for_payment'\n",
    "# tar='Churn'\n",
    "# tit='coupon_used_for_payment'\n",
    "\n",
    "# textlab='# of Customers'\n",
    "# textlab_tar='# of Churn Customers'\n",
    "\n",
    "# fig, axis=plt.subplots(nrows=1,ncols=2)\n",
    "# fig.set_size_inches(15,4)\n",
    "\n",
    "# a = sns.countplot(data=dff, y=var,ax=axis[0],order=dff[var].value_counts().index)\n",
    "\n",
    "# a.set_frame_on(False)\n",
    "\n",
    "# #a.set_ylabel(var,weight='bold')\n",
    "# a.set_ylabel('')\n",
    "# a.set_xlabel(textlab,weight='bold')\n",
    "\n",
    "\n",
    "# a.set_xticklabels([])\n",
    "# a.tick_params(bottom=False)\n",
    "# a.set_yticklabels(list(dff[var].value_counts().index),weight='bold')\n",
    "\n",
    "# maxwidth = dff[var].value_counts().max()\n",
    "\n",
    "# for p in a.patches:\n",
    "#     width = np.nan_to_num(p.get_width()) \n",
    "#     wdplace = width\n",
    "#     per = (width/dff.shape[0])*100\n",
    "#     #print(width)\n",
    "#     wdplace = wdplace + maxwidth * 10/100\n",
    "#     # if(per < 1):\n",
    "#     #     wdplace = wdplace + maxwidth * 10/100\n",
    "#     # else:\n",
    "#     #     wdplace = wdplace - maxwidth * 10/100\n",
    "    \n",
    "#     a.text(wdplace,\n",
    "#         p.get_y()+.5,\n",
    "#         '{} - ({:1.2f}%)'.format(round(width),per),\n",
    "#         ha=\"center\",weight='bold') "
   ]
  },
  {
   "cell_type": "markdown",
   "metadata": {
    "id": "MhG-mLNnOQPN"
   },
   "source": [
    "### Univarient Analsyis"
   ]
  },
  {
   "cell_type": "code",
   "execution_count": 12,
   "metadata": {
    "id": "YyiGI4As8LOb"
   },
   "outputs": [],
   "source": [
    "def display_unq(dff,var,tar,bins,typevar,tit,textlab,textlab_tar):\n",
    "  if(typevar=='num'):\n",
    "    fig, axis=plt.subplots(nrows=1,ncols=3)\n",
    "    fig.set_size_inches(20,3)\n",
    "\n",
    "    str1 = f'**** {tit.title()} ****'\n",
    "\n",
    "    width = len(str1)\n",
    "    filler = '*'\n",
    "\n",
    "    print(str1)\n",
    "    print(f'{\"*\" :{filler}>{width}}\\n')\n",
    "\n",
    "    dff_r = pd.DataFrame(round(dff[var].describe(),2)).T\n",
    "    display(tabulate.tabulate(dff_r, tablefmt='html',headers=dff_r.columns))\n",
    "    \n",
    "    str2 = f'\\n**** Visuallations of Feature {tit.title()} ****'\n",
    "\n",
    "    width = len(str2)\n",
    "    filler = '*'\n",
    "\n",
    "    print(str2)\n",
    "    print(f'{\"*\" :{filler}>{width}}\\n')\n",
    "\n",
    "    a= sns.histplot(dff[var],ax=axis[0],bins=bins);\n",
    "    b= sns.boxplot(dff[var],ax=axis[1]);\n",
    "    c= sns.kdeplot(dff[var],ax=axis[2],hue=df[tar])\n",
    "\n",
    "    a.set_xlabel('')\n",
    "    b.set_xlabel('')\n",
    "    c.set_xlabel('')\n",
    "    a.set_ylabel('')\n",
    "    c.set_ylabel('')\n",
    "\n",
    "    a.set_frame_on(False)\n",
    "    b.set_frame_on(False)\n",
    "    c.set_frame_on(False)\n",
    "\n",
    "  else:\n",
    "    fig, axis=plt.subplots(nrows=1,ncols=2)\n",
    "    fig.set_size_inches(15,4)\n",
    "\n",
    "    #unq_count_new(dff,var,0,tit,True)\n",
    "\n",
    "    str2 = f'\\n**** Visuallations of Feature {tit.title()} ****'\n",
    "\n",
    "    width = len(str2)\n",
    "    filler = '*'\n",
    "\n",
    "    print(str2)\n",
    "    print(f'{\"*\" :{filler}>{width}}\\n')\n",
    "\n",
    "    a = sns.countplot(data=dff, y=var,ax=axis[0],order=dff[var].value_counts().index)\n",
    "\n",
    "    a.set_frame_on(False)\n",
    "\n",
    "    #a.set_ylabel(var,weight='bold')\n",
    "    a.set_ylabel('')\n",
    "    a.set_xlabel(textlab,weight='bold')\n",
    "\n",
    "\n",
    "    a.set_xticklabels([])\n",
    "    a.tick_params(bottom=False)\n",
    "    a.set_yticklabels(list(dff[var].value_counts().index),weight='bold')\n",
    "\n",
    "    for p in a.patches:\n",
    "        width = np.nan_to_num(p.get_width()) \n",
    "        per = (width/dff.shape[0])*100\n",
    "        #print(width,p.get_y(),per)\n",
    "\n",
    "        if(per < 1):\n",
    "            width = width + 750\n",
    "        else:\n",
    "            width = width + 220\n",
    "        \n",
    "        a.text(width,\n",
    "            p.get_y()+.5,\n",
    "            '{} - ({:1.2f}%)'.format(width,(width/dff.shape[0])*100),\n",
    "            ha=\"center\",weight='bold') \n",
    "    \n",
    "    result = dff.groupby([var])[tar].aggregate(np.sum).reset_index().sort_values(tar,ascending = False)\n",
    "    result = result[result[tar]>0]\n",
    "    b = sns.barplot(data=result, y=var,x=tar,orient='h',order=result[var],ax=axis[1])\n",
    "\n",
    "    b.set_frame_on(False)\n",
    "\n",
    "    b.set_ylabel('')\n",
    "    #b.set_ylabel(var,weight='bold')\n",
    "    b.set_xlabel(textlab_tar,weight='bold')\n",
    "\n",
    "    b.set_xticklabels([])\n",
    "    b.tick_params(bottom=False)\n",
    "    b.set_yticklabels(list(result[var].value_counts().index),weight='bold')\n",
    "    #b.set_yticklabels([])\n",
    "\n",
    "    for p in b.patches:\n",
    "        width = np.nan_to_num(p.get_width()) \n",
    "        per = (width/dff.shape[0])*100\n",
    "        #print(width,p.get_y(),per)\n",
    "\n",
    "        if(per < 1):\n",
    "            width = width + 750\n",
    "        else:\n",
    "            width = width + 20\n",
    "        \n",
    "        b.text(width,\n",
    "            p.get_y()+.5,\n",
    "            '{} - ({:1.2f}%)'.format(width,(width/dff.shape[0])*100),\n",
    "            ha=\"center\",weight='bold') \n"
   ]
  },
  {
   "cell_type": "code",
   "execution_count": 13,
   "metadata": {},
   "outputs": [
    {
     "data": {
      "text/plain": [
       "['code_module',\n",
       " 'code_presentation',\n",
       " 'activity_type',\n",
       " 'assessment_type',\n",
       " 'region',\n",
       " 'highest_education',\n",
       " 'imd_band',\n",
       " 'age_band',\n",
       " 'final_result']"
      ]
     },
     "execution_count": 13,
     "metadata": {},
     "output_type": "execute_result"
    }
   ],
   "source": [
    "Vars['chars']"
   ]
  },
  {
   "cell_type": "code",
   "execution_count": 14,
   "metadata": {},
   "outputs": [
    {
     "data": {
      "text/plain": [
       "Pass           107786\n",
       "Distinction     34879\n",
       "Fail            16409\n",
       "Withdrawn        6035\n",
       "Name: final_result, dtype: int64"
      ]
     },
     "execution_count": 14,
     "metadata": {},
     "output_type": "execute_result"
    }
   ],
   "source": [
    "#Define target as Pass or Fail\n",
    "df['final_result'].value_counts()"
   ]
  },
  {
   "cell_type": "code",
   "execution_count": 15,
   "metadata": {},
   "outputs": [],
   "source": [
    "df['ValidatePass']=df['final_result'].apply(lambda x: 1 if(x=='Pass' or x=='Distinction') else 0)"
   ]
  },
  {
   "cell_type": "code",
   "execution_count": 16,
   "metadata": {},
   "outputs": [
    {
     "name": "stdout",
     "output_type": "stream",
     "text": [
      "code_module\n",
      "FFF    79681\n",
      "DDD    31394\n",
      "BBB    23343\n",
      "CCC    15315\n",
      "EEE     6738\n",
      "GGG     5473\n",
      "AAA     3165\n",
      "dtype: int64\n",
      "\n",
      "\n",
      "code_presentation\n",
      "2014J    50056\n",
      "2013J    45170\n",
      "2013B    38263\n",
      "2014B    31620\n",
      "dtype: int64\n",
      "\n",
      "\n",
      "activity_type\n",
      "subpage          34738\n",
      "forumng          34472\n",
      "oucontent        30359\n",
      "homepage         28098\n",
      "resource         12257\n",
      "quiz             11367\n",
      "url               6808\n",
      "ouwiki            2286\n",
      "page               932\n",
      "questionnaire      832\n",
      "externalquiz       794\n",
      "oucollaborate      785\n",
      "ouelluminate       395\n",
      "glossary           278\n",
      "dataplus           276\n",
      "dualpane           190\n",
      "htmlactivity       135\n",
      "folder             105\n",
      "sharedsubpage        2\n",
      "dtype: int64\n",
      "\n",
      "\n",
      "assessment_type\n",
      "TMA     88019\n",
      "CMA     71965\n",
      "Exam     5125\n",
      "dtype: int64\n",
      "\n",
      "\n",
      "region\n",
      "Scotland                18802\n",
      "South Region            17192\n",
      "East Anglian Region     16689\n",
      "London Region           15440\n",
      "North Western Region    13475\n",
      "South West Region       12236\n",
      "North Region            11531\n",
      "West Midlands Region    11394\n",
      "South East Region       11377\n",
      "East Midlands Region    10956\n",
      "Wales                    9268\n",
      "Yorkshire Region         9160\n",
      "Ireland                  7589\n",
      "dtype: int64\n",
      "\n",
      "\n",
      "highest_education\n",
      "A Level or Equivalent          73811\n",
      "Lower Than A Level             57888\n",
      "HE Qualification               30006\n",
      "Post Graduate Qualification     2251\n",
      "No Formal quals                 1153\n",
      "dtype: int64\n",
      "\n",
      "\n",
      "imd_band\n",
      "30-40%     17910\n",
      "50-60%     16100\n",
      "20-30%     16000\n",
      "60-70%     15714\n",
      "70-80%     15683\n",
      "80-90%     15626\n",
      "90-100%    15379\n",
      "40-50%     15196\n",
      "10-20      14583\n",
      "0-10%      12838\n",
      "dtype: int64\n",
      "\n",
      "\n",
      "age_band\n",
      "0-35     104131\n",
      "35-55     59157\n",
      "55<=       1821\n",
      "dtype: int64\n",
      "\n",
      "\n",
      "final_result\n",
      "Pass           107786\n",
      "Distinction     34879\n",
      "Fail            16409\n",
      "Withdrawn        6035\n",
      "dtype: int64\n",
      "\n",
      "\n"
     ]
    }
   ],
   "source": [
    "for i in Vars['chars']:\n",
    "    print(df.value_counts(i))\n",
    "    print(\"\\n\")"
   ]
  },
  {
   "cell_type": "code",
   "execution_count": 17,
   "metadata": {
    "colab": {
     "base_uri": "https://localhost:8080/",
     "height": 334
    },
    "id": "Nk9_P5gXVk5e",
    "outputId": "09943a86-ca8b-43b7-f655-42dbff1c2989"
   },
   "outputs": [
    {
     "name": "stdout",
     "output_type": "stream",
     "text": [
      "**** Date_Assignment ****\n",
      "*************************\n",
      "\n"
     ]
    },
    {
     "data": {
      "text/html": [
       "<table>\n",
       "<thead>\n",
       "<tr><th>               </th><th style=\"text-align: right;\">  count</th><th style=\"text-align: right;\">  mean</th><th style=\"text-align: right;\">  std</th><th style=\"text-align: right;\">  min</th><th style=\"text-align: right;\">  25%</th><th style=\"text-align: right;\">  50%</th><th style=\"text-align: right;\">  75%</th><th style=\"text-align: right;\">  max</th></tr>\n",
       "</thead>\n",
       "<tbody>\n",
       "<tr><td>date_assignment</td><td style=\"text-align: right;\"> 165109</td><td style=\"text-align: right;\"> 99.78</td><td style=\"text-align: right;\">75.72</td><td style=\"text-align: right;\">  -25</td><td style=\"text-align: right;\">   30</td><td style=\"text-align: right;\">   94</td><td style=\"text-align: right;\">  161</td><td style=\"text-align: right;\">  269</td></tr>\n",
       "</tbody>\n",
       "</table>"
      ],
      "text/plain": [
       "'<table>\\n<thead>\\n<tr><th>               </th><th style=\"text-align: right;\">  count</th><th style=\"text-align: right;\">  mean</th><th style=\"text-align: right;\">  std</th><th style=\"text-align: right;\">  min</th><th style=\"text-align: right;\">  25%</th><th style=\"text-align: right;\">  50%</th><th style=\"text-align: right;\">  75%</th><th style=\"text-align: right;\">  max</th></tr>\\n</thead>\\n<tbody>\\n<tr><td>date_assignment</td><td style=\"text-align: right;\"> 165109</td><td style=\"text-align: right;\"> 99.78</td><td style=\"text-align: right;\">75.72</td><td style=\"text-align: right;\">  -25</td><td style=\"text-align: right;\">   30</td><td style=\"text-align: right;\">   94</td><td style=\"text-align: right;\">  161</td><td style=\"text-align: right;\">  269</td></tr>\\n</tbody>\\n</table>'"
      ]
     },
     "metadata": {},
     "output_type": "display_data"
    },
    {
     "name": "stdout",
     "output_type": "stream",
     "text": [
      "\n",
      "**** Visuallations of Feature Date_Assignment ****\n",
      "***************************************************\n",
      "\n"
     ]
    },
    {
     "data": {
      "image/png": "[encoded data removed]",
      "text/plain": [
       "<Figure size 1440x216 with 3 Axes>"
      ]
     },
     "metadata": {
      "needs_background": "light"
     },
     "output_type": "display_data"
    }
   ],
   "source": [
    "target='ValidatePass'\n",
    "textlab='# of Student'\n",
    "textlab_tar='# of Students'\n",
    "\n",
    "display_unq(df,'date_assignment',target,10,'num','date_assignment',textlab,textlab_tar)"
   ]
  },
  {
   "cell_type": "code",
   "execution_count": null,
   "metadata": {
    "colab": {
     "base_uri": "https://localhost:8080/",
     "height": 334
    },
    "id": "Gyndp3TSVnl4",
    "outputId": "5bfcc421-84af-4158-da77-9f4a2fe1192a"
   },
   "outputs": [],
   "source": [
    "display_unq(df,'sum_click',target,10,'num','Sum of Clicks',textlab,textlab_tar)"
   ]
  },
  {
   "cell_type": "code",
   "execution_count": null,
   "metadata": {
    "colab": {
     "base_uri": "https://localhost:8080/",
     "height": 334
    },
    "id": "y0Nhmn-YVs8l",
    "outputId": "ad714044-99de-4f7a-8d28-8d284f31daba"
   },
   "outputs": [],
   "source": [
    "display_unq(df,'weight',target,10,'num','Weight',textlab,textlab_tar)"
   ]
  },
  {
   "cell_type": "code",
   "execution_count": null,
   "metadata": {
    "colab": {
     "base_uri": "https://localhost:8080/",
     "height": 334
    },
    "id": "ibqMH_OgWdgJ",
    "outputId": "cbc02d30-c6c6-4638-d8a3-f585b1b949a5"
   },
   "outputs": [],
   "source": [
    "display_unq(df,'module_presentation_length',target,10,'num','module_presentation_length',textlab,textlab_tar)"
   ]
  },
  {
   "cell_type": "code",
   "execution_count": null,
   "metadata": {
    "colab": {
     "base_uri": "https://localhost:8080/",
     "height": 470
    },
    "id": "TfPZyd_Aae1r",
    "outputId": "78b8efad-310b-49bc-cf33-7657957dd91c"
   },
   "outputs": [],
   "source": [
    "display_unq(df,'date_submitted',target,10,'num','date_submitted',textlab,textlab_tar)"
   ]
  },
  {
   "cell_type": "code",
   "execution_count": null,
   "metadata": {},
   "outputs": [],
   "source": [
    "display_unq(df,'score',target,10,'num','score',textlab,textlab_tar)"
   ]
  },
  {
   "cell_type": "code",
   "execution_count": null,
   "metadata": {},
   "outputs": [],
   "source": [
    "\n",
    "display_unq(df,'studied_credits',target,10,'num','studied_credits',textlab,textlab_tar)"
   ]
  },
  {
   "cell_type": "code",
   "execution_count": null,
   "metadata": {},
   "outputs": [],
   "source": [
    "display_unq(df,'date_registration',target,10,'num','date_registration',textlab,textlab_tar)"
   ]
  },
  {
   "cell_type": "code",
   "execution_count": null,
   "metadata": {},
   "outputs": [],
   "source": [
    "display_unq(df,'date_unregistration',target,10,'num','date_unregistration',textlab,textlab_tar)"
   ]
  },
  {
   "cell_type": "code",
   "execution_count": null,
   "metadata": {},
   "outputs": [],
   "source": [
    "display_unq(df,'num_of_prev_attempts',target,10,'char','num_of_prev_attempts',textlab,textlab_tar)"
   ]
  },
  {
   "cell_type": "code",
   "execution_count": null,
   "metadata": {},
   "outputs": [],
   "source": [
    "display_unq(df,'final_result',target,10,'char','final_result',textlab,textlab_tar)"
   ]
  },
  {
   "cell_type": "code",
   "execution_count": null,
   "metadata": {},
   "outputs": [],
   "source": [
    "display_unq(df,'code_module',target,10,'char','code_module',textlab,textlab_tar)"
   ]
  },
  {
   "cell_type": "code",
   "execution_count": null,
   "metadata": {},
   "outputs": [],
   "source": [
    "display_unq(df,'code_presentation',target,10,'char','code_presentation',textlab,textlab_tar)"
   ]
  },
  {
   "cell_type": "code",
   "execution_count": null,
   "metadata": {},
   "outputs": [],
   "source": [
    "display_unq(df,'assessment_type',target,10,'char','assessment_type',textlab,textlab_tar)"
   ]
  },
  {
   "cell_type": "code",
   "execution_count": null,
   "metadata": {},
   "outputs": [],
   "source": [
    "display_unq(df,'region',target,10,'char','region',textlab,textlab_tar)"
   ]
  },
  {
   "cell_type": "code",
   "execution_count": null,
   "metadata": {},
   "outputs": [],
   "source": [
    "display_unq(df,'highest_education',target,10,'char','highest_education',textlab,textlab_tar)"
   ]
  },
  {
   "cell_type": "code",
   "execution_count": null,
   "metadata": {},
   "outputs": [],
   "source": [
    "display_unq(df,'imd_band',target,10,'char','imd_band',textlab,textlab_tar)"
   ]
  },
  {
   "cell_type": "code",
   "execution_count": null,
   "metadata": {},
   "outputs": [],
   "source": [
    "display_unq(df,'age_band',target,10,'char','age_band',textlab,textlab_tar)"
   ]
  },
  {
   "cell_type": "code",
   "execution_count": 18,
   "metadata": {},
   "outputs": [
    {
     "data": {
      "text/plain": [
       "1    0.864066\n",
       "0    0.135934\n",
       "Name: ValidatePass, dtype: float64"
      ]
     },
     "execution_count": 18,
     "metadata": {},
     "output_type": "execute_result"
    }
   ],
   "source": [
    "df[target].value_counts(normalize=True)"
   ]
  },
  {
   "cell_type": "code",
   "execution_count": 19,
   "metadata": {},
   "outputs": [
    {
     "data": {
      "image/png": "[encoded data removed]",
      "text/plain": [
       "<Figure size 576x360 with 1 Axes>"
      ]
     },
     "metadata": {
      "needs_background": "light"
     },
     "output_type": "display_data"
    }
   ],
   "source": [
    "# Visualizing the percentage of canceled vs not canceled bookings: \n",
    "plt.figure(figsize=(8,5)) \n",
    "sns.barplot(x=df['ValidatePass'].unique(), y=df['ValidatePass'].value_counts(normalize=True), palette=['green', 'red'])\n",
    "plt.xlabel(\"Successfactor\", fontsize = 12, labelpad = 5)\n",
    "plt.ylabel(\"% of Successfactor\", fontsize = 12, labelpad = 5)\n",
    "plt.xticks(ticks=[0, 1], labels=['Pass', 'Fail']);"
   ]
  },
  {
   "cell_type": "code",
   "execution_count": 20,
   "metadata": {},
   "outputs": [],
   "source": [
    "#Define the function to identify the outliers\n",
    "def remove_outlier(col):\n",
    "    sorted(col)\n",
    "    Q1,Q3=np.percentile(col,[25,75])\n",
    "    IQR=Q3-Q1\n",
    "    lower_range= Q1-(1.5 * IQR)\n",
    "    upper_range= Q3+(1.5 * IQR)\n",
    "    return lower_range, upper_range"
   ]
  },
  {
   "cell_type": "markdown",
   "metadata": {},
   "source": []
  },
  {
   "cell_type": "code",
   "execution_count": 21,
   "metadata": {},
   "outputs": [],
   "source": [
    "\n",
    "colout = ['sum_click','date_submitted','score','studied_credits','date_registration']\n",
    "for column in colout:\n",
    "    lr,ur=remove_outlier(df[column])\n",
    "    df[column]=np.where(df[column]>ur,ur,df[column])\n",
    "    df[column]=np.where(df[column]>ur,ur,df[column])"
   ]
  },
  {
   "cell_type": "code",
   "execution_count": 22,
   "metadata": {},
   "outputs": [
    {
     "data": {
      "image/png": "[encoded data removed]",
      "text/plain": [
       "<Figure size 720x144 with 1 Axes>"
      ]
     },
     "metadata": {
      "needs_background": "light"
     },
     "output_type": "display_data"
    },
    {
     "data": {
      "image/png": "[encoded data removed]",
      "text/plain": [
       "<Figure size 720x144 with 1 Axes>"
      ]
     },
     "metadata": {
      "needs_background": "light"
     },
     "output_type": "display_data"
    },
    {
     "data": {
      "image/png": "[encoded data removed]",
      "text/plain": [
       "<Figure size 720x144 with 1 Axes>"
      ]
     },
     "metadata": {
      "needs_background": "light"
     },
     "output_type": "display_data"
    },
    {
     "data": {
      "image/png": "[encoded data removed]",
      "text/plain": [
       "<Figure size 720x144 with 1 Axes>"
      ]
     },
     "metadata": {
      "needs_background": "light"
     },
     "output_type": "display_data"
    },
    {
     "data": {
      "image/png": "[encoded data removed]",
      "text/plain": [
       "<Figure size 720x144 with 1 Axes>"
      ]
     },
     "metadata": {
      "needs_background": "light"
     },
     "output_type": "display_data"
    }
   ],
   "source": [
    "coloutcheck = ['sum_click','date_submitted','score','studied_credits','date_registration']\n",
    "for i in coloutcheck:\n",
    "    plt.figure(figsize=(10,2)) \n",
    "    sns.boxplot(data=df,x=df[i]) #,x='is_canceled')\n",
    "    plt.xlabel(i.title(), fontsize = 12, labelpad = 5)"
   ]
  },
  {
   "cell_type": "code",
   "execution_count": 23,
   "metadata": {},
   "outputs": [
    {
     "name": "stdout",
     "output_type": "stream",
     "text": [
      "****Missing Values in the Dataset****\n",
      "*************************************\n",
      "80 Missing values in score which is 0.05% of total data\n",
      "10080 Missing values in imd_band which is 6.11% of total data\n",
      "1 Missing values in date_registration which is 0.0% of total data\n",
      "159096 Missing values in date_unregistration which is 96.36% of total data\n"
     ]
    }
   ],
   "source": [
    "#Check for missing value\n",
    "print('****Missing Values in the Dataset****')\n",
    "print('*************************************')\n",
    "msv = df.isnull().sum()[df.isnull().sum()>0]\n",
    "if msv.empty:\n",
    "    print('There is no missing values in the data.') \n",
    "else:\n",
    "    for i in range(msv.count()):\n",
    "        print('{} Missing values in {} which is {}% of total data'.format(msv[i],msv.index[i],round(((msv[i]/df.shape[0])*100),2)))"
   ]
  },
  {
   "cell_type": "code",
   "execution_count": 24,
   "metadata": {},
   "outputs": [],
   "source": [
    "df['score']=df['score'].fillna(df['score'].median())\n",
    "df['date_registration']=df['date_registration'].fillna(df['date_registration'].median())\n",
    "df['imd_band']=df['imd_band'].fillna(df['imd_band'].mode()[0])\n",
    "df.drop('date_unregistration',axis=1,inplace=True)"
   ]
  },
  {
   "cell_type": "code",
   "execution_count": 25,
   "metadata": {},
   "outputs": [
    {
     "name": "stdout",
     "output_type": "stream",
     "text": [
      "<class 'pandas.core.frame.DataFrame'>\n",
      "RangeIndex: 165109 entries, 0 to 165108\n",
      "Data columns (total 25 columns):\n",
      " #   Column                      Non-Null Count   Dtype  \n",
      "---  ------                      --------------   -----  \n",
      " 0   code_module                 165109 non-null  object \n",
      " 1   code_presentation           165109 non-null  object \n",
      " 2   id_student                  165109 non-null  int64  \n",
      " 3   id_site                     165109 non-null  int64  \n",
      " 4   date_assignment             165109 non-null  int64  \n",
      " 5   sum_click                   165109 non-null  float64\n",
      " 6   activity_type               165109 non-null  object \n",
      " 7   id_assessment               165109 non-null  int64  \n",
      " 8   assessment_type             165109 non-null  object \n",
      " 9   weight                      165109 non-null  float64\n",
      " 10  module_presentation_length  165109 non-null  int64  \n",
      " 11  date_submitted              165109 non-null  float64\n",
      " 12  is_banked                   165109 non-null  int64  \n",
      " 13  score                       165109 non-null  float64\n",
      " 14  gender                      165109 non-null  object \n",
      " 15  region                      165109 non-null  object \n",
      " 16  highest_education           165109 non-null  object \n",
      " 17  imd_band                    165109 non-null  object \n",
      " 18  age_band                    165109 non-null  object \n",
      " 19  num_of_prev_attempts        165109 non-null  int64  \n",
      " 20  studied_credits             165109 non-null  float64\n",
      " 21  disability                  165109 non-null  object \n",
      " 22  final_result                165109 non-null  object \n",
      " 23  date_registration           165109 non-null  float64\n",
      " 24  ValidatePass                165109 non-null  int64  \n",
      "dtypes: float64(6), int64(8), object(11)\n",
      "memory usage: 31.5+ MB\n"
     ]
    }
   ],
   "source": [
    "df.info()"
   ]
  },
  {
   "cell_type": "code",
   "execution_count": 26,
   "metadata": {},
   "outputs": [
    {
     "data": {
      "image/png": "[encoded data removed]",
      "text/plain": [
       "<Figure size 1080x720 with 2 Axes>"
      ]
     },
     "metadata": {
      "needs_background": "light"
     },
     "output_type": "display_data"
    }
   ],
   "source": [
    "#Heat map - Relationalship analysis\n",
    "plt.figure(figsize=(15,10))\n",
    "sns.heatmap(df.drop(['id_student','id_site','id_assessment'],axis=1).corr(),mask=np.triu(df.drop(['id_student','id_site','id_assessment'],axis=1).corr(),+1),fmt='.2f',annot=True);"
   ]
  },
  {
   "cell_type": "code",
   "execution_count": 28,
   "metadata": {},
   "outputs": [
    {
     "data": {
      "image/png": "[encoded data removed]",
      "text/plain": [
       "<Figure size 720x1080 with 2 Axes>"
      ]
     },
     "metadata": {
      "needs_background": "light"
     },
     "output_type": "display_data"
    }
   ],
   "source": [
    "# Visualizing correlation coefficients between features and cancellation:\n",
    "fig = plt.figure(figsize=(10,15))\n",
    "ax = sns.heatmap(df.drop(['id_student','id_site','id_assessment'],axis=1).corr()[[target]].sort_values(target, ascending=False), annot = True, annot_kws = {\"size\":12}, cmap='Reds')\n",
    "ax.set_title('Correlation Coefficient Between Feature and Successfactor', fontsize=18)\n",
    "ax.set_xlabel('Features', fontsize = 16)\n",
    "ax.set_ylabel('Features', fontsize = 16)\n",
    "ax.tick_params(axis = \"both\", labelsize = 12);\n",
    "y_min, y_max = ax.get_ylim()\n",
    "ax.set_ylim(top=y_max+1);"
   ]
  },
  {
   "cell_type": "code",
   "execution_count": 29,
   "metadata": {},
   "outputs": [
    {
     "name": "stdout",
     "output_type": "stream",
     "text": [
      "<class 'pandas.core.frame.DataFrame'>\n",
      "RangeIndex: 165109 entries, 0 to 165108\n",
      "Data columns (total 25 columns):\n",
      " #   Column                      Non-Null Count   Dtype  \n",
      "---  ------                      --------------   -----  \n",
      " 0   code_module                 165109 non-null  object \n",
      " 1   code_presentation           165109 non-null  object \n",
      " 2   id_student                  165109 non-null  int64  \n",
      " 3   id_site                     165109 non-null  int64  \n",
      " 4   date_assignment             165109 non-null  int64  \n",
      " 5   sum_click                   165109 non-null  float64\n",
      " 6   activity_type               165109 non-null  object \n",
      " 7   id_assessment               165109 non-null  int64  \n",
      " 8   assessment_type             165109 non-null  object \n",
      " 9   weight                      165109 non-null  float64\n",
      " 10  module_presentation_length  165109 non-null  int64  \n",
      " 11  date_submitted              165109 non-null  float64\n",
      " 12  is_banked                   165109 non-null  int64  \n",
      " 13  score                       165109 non-null  float64\n",
      " 14  gender                      165109 non-null  object \n",
      " 15  region                      165109 non-null  object \n",
      " 16  highest_education           165109 non-null  object \n",
      " 17  imd_band                    165109 non-null  object \n",
      " 18  age_band                    165109 non-null  object \n",
      " 19  num_of_prev_attempts        165109 non-null  int64  \n",
      " 20  studied_credits             165109 non-null  float64\n",
      " 21  disability                  165109 non-null  object \n",
      " 22  final_result                165109 non-null  object \n",
      " 23  date_registration           165109 non-null  float64\n",
      " 24  ValidatePass                165109 non-null  int64  \n",
      "dtypes: float64(6), int64(8), object(11)\n",
      "memory usage: 31.5+ MB\n"
     ]
    }
   ],
   "source": [
    "df.info()"
   ]
  },
  {
   "cell_type": "code",
   "execution_count": 30,
   "metadata": {},
   "outputs": [],
   "source": [
    "Modeldf = df.drop(['id_student','id_site','id_assessment','final_result'],axis=1)\n"
   ]
  },
  {
   "cell_type": "code",
   "execution_count": 31,
   "metadata": {},
   "outputs": [
    {
     "name": "stdout",
     "output_type": "stream",
     "text": [
      "<class 'pandas.core.frame.DataFrame'>\n",
      "RangeIndex: 165109 entries, 0 to 165108\n",
      "Data columns (total 21 columns):\n",
      " #   Column                      Non-Null Count   Dtype  \n",
      "---  ------                      --------------   -----  \n",
      " 0   code_module                 165109 non-null  object \n",
      " 1   code_presentation           165109 non-null  object \n",
      " 2   date_assignment             165109 non-null  int64  \n",
      " 3   sum_click                   165109 non-null  float64\n",
      " 4   activity_type               165109 non-null  object \n",
      " 5   assessment_type             165109 non-null  object \n",
      " 6   weight                      165109 non-null  float64\n",
      " 7   module_presentation_length  165109 non-null  int64  \n",
      " 8   date_submitted              165109 non-null  float64\n",
      " 9   is_banked                   165109 non-null  int64  \n",
      " 10  score                       165109 non-null  float64\n",
      " 11  gender                      165109 non-null  object \n",
      " 12  region                      165109 non-null  object \n",
      " 13  highest_education           165109 non-null  object \n",
      " 14  imd_band                    165109 non-null  object \n",
      " 15  age_band                    165109 non-null  object \n",
      " 16  num_of_prev_attempts        165109 non-null  int64  \n",
      " 17  studied_credits             165109 non-null  float64\n",
      " 18  disability                  165109 non-null  object \n",
      " 19  date_registration           165109 non-null  float64\n",
      " 20  ValidatePass                165109 non-null  int64  \n",
      "dtypes: float64(6), int64(5), object(10)\n",
      "memory usage: 26.5+ MB\n"
     ]
    }
   ],
   "source": [
    "Modeldf.info()"
   ]
  },
  {
   "cell_type": "code",
   "execution_count": null,
   "metadata": {},
   "outputs": [],
   "source": [
    "pip list"
   ]
  },
  {
   "cell_type": "code",
   "execution_count": 32,
   "metadata": {},
   "outputs": [
    {
     "name": "stdout",
     "output_type": "stream",
     "text": [
      "        code_module code_presentation  date_assignment  sum_click  \\\n",
      "0                 5             2013J              153        1.0   \n",
      "1                 3             2013B              140        1.0   \n",
      "2                 4             2014B              102        1.0   \n",
      "3                 3             2013B                1        2.0   \n",
      "4                 3             2013J              -15        1.0   \n",
      "...             ...               ...              ...        ...   \n",
      "165104            4             2014J              228        2.0   \n",
      "165105            5             2013J               20        8.0   \n",
      "165106            5             2014B               40        4.0   \n",
      "165107            1             2013J              -10        1.0   \n",
      "165108            5             2014J               89        2.0   \n",
      "\n",
      "       activity_type assessment_type  weight  module_presentation_length  \\\n",
      "0            subpage             TMA    12.5                         268   \n",
      "1            subpage             CMA     3.0                         240   \n",
      "2                url             TMA    16.0                         241   \n",
      "3                url             CMA     3.0                         240   \n",
      "4           homepage             TMA    10.0                         261   \n",
      "...              ...             ...     ...                         ...   \n",
      "165104        ouwiki             TMA    28.0                         269   \n",
      "165105      homepage             CMA     0.0                         268   \n",
      "165106      homepage             TMA    12.5                         241   \n",
      "165107           url             TMA    18.0                         268   \n",
      "165108      resource             CMA     0.0                         269   \n",
      "\n",
      "        date_submitted  is_banked  ...  gender                region  \\\n",
      "0                 17.0          0  ...       M              Scotland   \n",
      "1                173.0          0  ...       M              Scotland   \n",
      "2                 19.0          0  ...       M   East Anglian Region   \n",
      "3                 81.0          0  ...       M              Scotland   \n",
      "4                 16.0          0  ...       F      Yorkshire Region   \n",
      "...                ...        ...  ...     ...                   ...   \n",
      "165104           130.0          0  ...       M  East Midlands Region   \n",
      "165105           115.0          0  ...       M     South West Region   \n",
      "165106            51.0          0  ...       M         London Region   \n",
      "165107            46.0          0  ...       F     South East Region   \n",
      "165108           242.0          0  ...       M      Yorkshire Region   \n",
      "\n",
      "            highest_education imd_band age_band num_of_prev_attempts  \\\n",
      "0            HE Qualification   70-80%    35-55                    0   \n",
      "1            HE Qualification   70-80%    35-55                    0   \n",
      "2          Lower Than A Level   60-70%     0-35                    0   \n",
      "3            HE Qualification   40-50%    35-55                    0   \n",
      "4          Lower Than A Level   20-30%     0-35                    0   \n",
      "...                       ...      ...      ...                  ...   \n",
      "165104  A Level or Equivalent   70-80%     0-35                    0   \n",
      "165105  A Level or Equivalent   50-60%     55<=                    0   \n",
      "165106  A Level or Equivalent   30-40%     0-35                    0   \n",
      "165107     Lower Than A Level   30-40%    35-55                    0   \n",
      "165108  A Level or Equivalent    0-10%     0-35                    0   \n",
      "\n",
      "        studied_credits  disability date_registration  ValidatePass  \n",
      "0                  60.0           N             -45.0             0  \n",
      "1                  60.0           N             -82.0             1  \n",
      "2                  30.0           N             -22.0             1  \n",
      "3                  60.0           N             -24.0             0  \n",
      "4                  60.0           N            -203.0             1  \n",
      "...                 ...         ...               ...           ...  \n",
      "165104             60.0           Y            -122.0             1  \n",
      "165105             60.0           N            -144.0             1  \n",
      "165106             60.0           N             -51.0             1  \n",
      "165107             60.0           N            -190.0             1  \n",
      "165108            120.0           N             -25.0             1  \n",
      "\n",
      "[165109 rows x 21 columns]\n",
      "        code_module  code_presentation  date_assignment  sum_click  \\\n",
      "0                 5                  1              153        1.0   \n",
      "1                 3                  0              140        1.0   \n",
      "2                 4                  2              102        1.0   \n",
      "3                 3                  0                1        2.0   \n",
      "4                 3                  1              -15        1.0   \n",
      "...             ...                ...              ...        ...   \n",
      "165104            4                  3              228        2.0   \n",
      "165105            5                  1               20        8.0   \n",
      "165106            5                  2               40        4.0   \n",
      "165107            1                  1              -10        1.0   \n",
      "165108            5                  3               89        2.0   \n",
      "\n",
      "       activity_type assessment_type  weight  module_presentation_length  \\\n",
      "0            subpage             TMA    12.5                         268   \n",
      "1            subpage             CMA     3.0                         240   \n",
      "2                url             TMA    16.0                         241   \n",
      "3                url             CMA     3.0                         240   \n",
      "4           homepage             TMA    10.0                         261   \n",
      "...              ...             ...     ...                         ...   \n",
      "165104        ouwiki             TMA    28.0                         269   \n",
      "165105      homepage             CMA     0.0                         268   \n",
      "165106      homepage             TMA    12.5                         241   \n",
      "165107           url             TMA    18.0                         268   \n",
      "165108      resource             CMA     0.0                         269   \n",
      "\n",
      "        date_submitted  is_banked  ...  gender                region  \\\n",
      "0                 17.0          0  ...       M              Scotland   \n",
      "1                173.0          0  ...       M              Scotland   \n",
      "2                 19.0          0  ...       M   East Anglian Region   \n",
      "3                 81.0          0  ...       M              Scotland   \n",
      "4                 16.0          0  ...       F      Yorkshire Region   \n",
      "...                ...        ...  ...     ...                   ...   \n",
      "165104           130.0          0  ...       M  East Midlands Region   \n",
      "165105           115.0          0  ...       M     South West Region   \n",
      "165106            51.0          0  ...       M         London Region   \n",
      "165107            46.0          0  ...       F     South East Region   \n",
      "165108           242.0          0  ...       M      Yorkshire Region   \n",
      "\n",
      "            highest_education imd_band age_band num_of_prev_attempts  \\\n",
      "0            HE Qualification   70-80%    35-55                    0   \n",
      "1            HE Qualification   70-80%    35-55                    0   \n",
      "2          Lower Than A Level   60-70%     0-35                    0   \n",
      "3            HE Qualification   40-50%    35-55                    0   \n",
      "4          Lower Than A Level   20-30%     0-35                    0   \n",
      "...                       ...      ...      ...                  ...   \n",
      "165104  A Level or Equivalent   70-80%     0-35                    0   \n",
      "165105  A Level or Equivalent   50-60%     55<=                    0   \n",
      "165106  A Level or Equivalent   30-40%     0-35                    0   \n",
      "165107     Lower Than A Level   30-40%    35-55                    0   \n",
      "165108  A Level or Equivalent    0-10%     0-35                    0   \n",
      "\n",
      "        studied_credits  disability date_registration  ValidatePass  \n",
      "0                  60.0           N             -45.0             0  \n",
      "1                  60.0           N             -82.0             1  \n",
      "2                  30.0           N             -22.0             1  \n",
      "3                  60.0           N             -24.0             0  \n",
      "4                  60.0           N            -203.0             1  \n",
      "...                 ...         ...               ...           ...  \n",
      "165104             60.0           Y            -122.0             1  \n",
      "165105             60.0           N            -144.0             1  \n",
      "165106             60.0           N             -51.0             1  \n",
      "165107             60.0           N            -190.0             1  \n",
      "165108            120.0           N             -25.0             1  \n",
      "\n",
      "[165109 rows x 21 columns]\n"
     ]
    },
    {
     "name": "stdout",
     "output_type": "stream",
     "text": [
      "        code_module  code_presentation  date_assignment  sum_click  \\\n",
      "0                 5                  1              153        1.0   \n",
      "1                 3                  0              140        1.0   \n",
      "2                 4                  2              102        1.0   \n",
      "3                 3                  0                1        2.0   \n",
      "4                 3                  1              -15        1.0   \n",
      "...             ...                ...              ...        ...   \n",
      "165104            4                  3              228        2.0   \n",
      "165105            5                  1               20        8.0   \n",
      "165106            5                  2               40        4.0   \n",
      "165107            1                  1              -10        1.0   \n",
      "165108            5                  3               89        2.0   \n",
      "\n",
      "        activity_type assessment_type  weight  module_presentation_length  \\\n",
      "0                  17             TMA    12.5                         268   \n",
      "1                  17             CMA     3.0                         240   \n",
      "2                  18             TMA    16.0                         241   \n",
      "3                  18             CMA     3.0                         240   \n",
      "4                   6             TMA    10.0                         261   \n",
      "...               ...             ...     ...                         ...   \n",
      "165104             11             TMA    28.0                         269   \n",
      "165105              6             CMA     0.0                         268   \n",
      "165106              6             TMA    12.5                         241   \n",
      "165107             18             TMA    18.0                         268   \n",
      "165108             15             CMA     0.0                         269   \n",
      "\n",
      "        date_submitted  is_banked  ...  gender                region  \\\n",
      "0                 17.0          0  ...       M              Scotland   \n",
      "1                173.0          0  ...       M              Scotland   \n",
      "2                 19.0          0  ...       M   East Anglian Region   \n",
      "3                 81.0          0  ...       M              Scotland   \n",
      "4                 16.0          0  ...       F      Yorkshire Region   \n",
      "...                ...        ...  ...     ...                   ...   \n",
      "165104           130.0          0  ...       M  East Midlands Region   \n",
      "165105           115.0          0  ...       M     South West Region   \n",
      "165106            51.0          0  ...       M         London Region   \n",
      "165107            46.0          0  ...       F     South East Region   \n",
      "165108           242.0          0  ...       M      Yorkshire Region   \n",
      "\n",
      "            highest_education imd_band age_band num_of_prev_attempts  \\\n",
      "0            HE Qualification   70-80%    35-55                    0   \n",
      "1            HE Qualification   70-80%    35-55                    0   \n",
      "2          Lower Than A Level   60-70%     0-35                    0   \n",
      "3            HE Qualification   40-50%    35-55                    0   \n",
      "4          Lower Than A Level   20-30%     0-35                    0   \n",
      "...                       ...      ...      ...                  ...   \n",
      "165104  A Level or Equivalent   70-80%     0-35                    0   \n",
      "165105  A Level or Equivalent   50-60%     55<=                    0   \n",
      "165106  A Level or Equivalent   30-40%     0-35                    0   \n",
      "165107     Lower Than A Level   30-40%    35-55                    0   \n",
      "165108  A Level or Equivalent    0-10%     0-35                    0   \n",
      "\n",
      "        studied_credits  disability date_registration  ValidatePass  \n",
      "0                  60.0           N             -45.0             0  \n",
      "1                  60.0           N             -82.0             1  \n",
      "2                  30.0           N             -22.0             1  \n",
      "3                  60.0           N             -24.0             0  \n",
      "4                  60.0           N            -203.0             1  \n",
      "...                 ...         ...               ...           ...  \n",
      "165104             60.0           Y            -122.0             1  \n",
      "165105             60.0           N            -144.0             1  \n",
      "165106             60.0           N             -51.0             1  \n",
      "165107             60.0           N            -190.0             1  \n",
      "165108            120.0           N             -25.0             1  \n",
      "\n",
      "[165109 rows x 21 columns]\n",
      "        code_module  code_presentation  date_assignment  sum_click  \\\n",
      "0                 5                  1              153        1.0   \n",
      "1                 3                  0              140        1.0   \n",
      "2                 4                  2              102        1.0   \n",
      "3                 3                  0                1        2.0   \n",
      "4                 3                  1              -15        1.0   \n",
      "...             ...                ...              ...        ...   \n",
      "165104            4                  3              228        2.0   \n",
      "165105            5                  1               20        8.0   \n",
      "165106            5                  2               40        4.0   \n",
      "165107            1                  1              -10        1.0   \n",
      "165108            5                  3               89        2.0   \n",
      "\n",
      "        activity_type  assessment_type  weight  module_presentation_length  \\\n",
      "0                  17                2    12.5                         268   \n",
      "1                  17                0     3.0                         240   \n",
      "2                  18                2    16.0                         241   \n",
      "3                  18                0     3.0                         240   \n",
      "4                   6                2    10.0                         261   \n",
      "...               ...              ...     ...                         ...   \n",
      "165104             11                2    28.0                         269   \n",
      "165105              6                0     0.0                         268   \n",
      "165106              6                2    12.5                         241   \n",
      "165107             18                2    18.0                         268   \n",
      "165108             15                0     0.0                         269   \n",
      "\n",
      "        date_submitted  is_banked  ...  gender                region  \\\n",
      "0                 17.0          0  ...       M              Scotland   \n",
      "1                173.0          0  ...       M              Scotland   \n",
      "2                 19.0          0  ...       M   East Anglian Region   \n",
      "3                 81.0          0  ...       M              Scotland   \n",
      "4                 16.0          0  ...       F      Yorkshire Region   \n",
      "...                ...        ...  ...     ...                   ...   \n",
      "165104           130.0          0  ...       M  East Midlands Region   \n",
      "165105           115.0          0  ...       M     South West Region   \n",
      "165106            51.0          0  ...       M         London Region   \n",
      "165107            46.0          0  ...       F     South East Region   \n",
      "165108           242.0          0  ...       M      Yorkshire Region   \n",
      "\n",
      "            highest_education imd_band age_band num_of_prev_attempts  \\\n",
      "0            HE Qualification   70-80%    35-55                    0   \n",
      "1            HE Qualification   70-80%    35-55                    0   \n",
      "2          Lower Than A Level   60-70%     0-35                    0   \n",
      "3            HE Qualification   40-50%    35-55                    0   \n",
      "4          Lower Than A Level   20-30%     0-35                    0   \n",
      "...                       ...      ...      ...                  ...   \n",
      "165104  A Level or Equivalent   70-80%     0-35                    0   \n",
      "165105  A Level or Equivalent   50-60%     55<=                    0   \n",
      "165106  A Level or Equivalent   30-40%     0-35                    0   \n",
      "165107     Lower Than A Level   30-40%    35-55                    0   \n",
      "165108  A Level or Equivalent    0-10%     0-35                    0   \n",
      "\n",
      "        studied_credits  disability date_registration  ValidatePass  \n",
      "0                  60.0           N             -45.0             0  \n",
      "1                  60.0           N             -82.0             1  \n",
      "2                  30.0           N             -22.0             1  \n",
      "3                  60.0           N             -24.0             0  \n",
      "4                  60.0           N            -203.0             1  \n",
      "...                 ...         ...               ...           ...  \n",
      "165104             60.0           Y            -122.0             1  \n",
      "165105             60.0           N            -144.0             1  \n",
      "165106             60.0           N             -51.0             1  \n",
      "165107             60.0           N            -190.0             1  \n",
      "165108            120.0           N             -25.0             1  \n",
      "\n",
      "[165109 rows x 21 columns]\n"
     ]
    },
    {
     "name": "stdout",
     "output_type": "stream",
     "text": [
      "        code_module  code_presentation  date_assignment  sum_click  \\\n",
      "0                 5                  1              153        1.0   \n",
      "1                 3                  0              140        1.0   \n",
      "2                 4                  2              102        1.0   \n",
      "3                 3                  0                1        2.0   \n",
      "4                 3                  1              -15        1.0   \n",
      "...             ...                ...              ...        ...   \n",
      "165104            4                  3              228        2.0   \n",
      "165105            5                  1               20        8.0   \n",
      "165106            5                  2               40        4.0   \n",
      "165107            1                  1              -10        1.0   \n",
      "165108            5                  3               89        2.0   \n",
      "\n",
      "        activity_type  assessment_type  weight  module_presentation_length  \\\n",
      "0                  17                2    12.5                         268   \n",
      "1                  17                0     3.0                         240   \n",
      "2                  18                2    16.0                         241   \n",
      "3                  18                0     3.0                         240   \n",
      "4                   6                2    10.0                         261   \n",
      "...               ...              ...     ...                         ...   \n",
      "165104             11                2    28.0                         269   \n",
      "165105              6                0     0.0                         268   \n",
      "165106              6                2    12.5                         241   \n",
      "165107             18                2    18.0                         268   \n",
      "165108             15                0     0.0                         269   \n",
      "\n",
      "        date_submitted  is_banked  ...  gender region      highest_education  \\\n",
      "0                 17.0          0  ...       M      6       HE Qualification   \n",
      "1                173.0          0  ...       M      6       HE Qualification   \n",
      "2                 19.0          0  ...       M      0     Lower Than A Level   \n",
      "3                 81.0          0  ...       M      6       HE Qualification   \n",
      "4                 16.0          0  ...       F     12     Lower Than A Level   \n",
      "...                ...        ...  ...     ...    ...                    ...   \n",
      "165104           130.0          0  ...       M      1  A Level or Equivalent   \n",
      "165105           115.0          0  ...       M      9  A Level or Equivalent   \n",
      "165106            51.0          0  ...       M      3  A Level or Equivalent   \n",
      "165107            46.0          0  ...       F      7     Lower Than A Level   \n",
      "165108           242.0          0  ...       M     12  A Level or Equivalent   \n",
      "\n",
      "       imd_band age_band num_of_prev_attempts  studied_credits  disability  \\\n",
      "0        70-80%    35-55                    0             60.0           N   \n",
      "1        70-80%    35-55                    0             60.0           N   \n",
      "2        60-70%     0-35                    0             30.0           N   \n",
      "3        40-50%    35-55                    0             60.0           N   \n",
      "4        20-30%     0-35                    0             60.0           N   \n",
      "...         ...      ...                  ...              ...         ...   \n",
      "165104   70-80%     0-35                    0             60.0           Y   \n",
      "165105   50-60%     55<=                    0             60.0           N   \n",
      "165106   30-40%     0-35                    0             60.0           N   \n",
      "165107   30-40%    35-55                    0             60.0           N   \n",
      "165108    0-10%     0-35                    0            120.0           N   \n",
      "\n",
      "       date_registration  ValidatePass  \n",
      "0                  -45.0             0  \n",
      "1                  -82.0             1  \n",
      "2                  -22.0             1  \n",
      "3                  -24.0             0  \n",
      "4                 -203.0             1  \n",
      "...                  ...           ...  \n",
      "165104            -122.0             1  \n",
      "165105            -144.0             1  \n",
      "165106             -51.0             1  \n",
      "165107            -190.0             1  \n",
      "165108             -25.0             1  \n",
      "\n",
      "[165109 rows x 21 columns]\n",
      "        code_module  code_presentation  date_assignment  sum_click  \\\n",
      "0                 5                  1              153        1.0   \n",
      "1                 3                  0              140        1.0   \n",
      "2                 4                  2              102        1.0   \n",
      "3                 3                  0                1        2.0   \n",
      "4                 3                  1              -15        1.0   \n",
      "...             ...                ...              ...        ...   \n",
      "165104            4                  3              228        2.0   \n",
      "165105            5                  1               20        8.0   \n",
      "165106            5                  2               40        4.0   \n",
      "165107            1                  1              -10        1.0   \n",
      "165108            5                  3               89        2.0   \n",
      "\n",
      "        activity_type  assessment_type  weight  module_presentation_length  \\\n",
      "0                  17                2    12.5                         268   \n",
      "1                  17                0     3.0                         240   \n",
      "2                  18                2    16.0                         241   \n",
      "3                  18                0     3.0                         240   \n",
      "4                   6                2    10.0                         261   \n",
      "...               ...              ...     ...                         ...   \n",
      "165104             11                2    28.0                         269   \n",
      "165105              6                0     0.0                         268   \n",
      "165106              6                2    12.5                         241   \n",
      "165107             18                2    18.0                         268   \n",
      "165108             15                0     0.0                         269   \n",
      "\n",
      "        date_submitted  is_banked  ...  gender region  highest_education  \\\n",
      "0                 17.0          0  ...       M      6                  1   \n",
      "1                173.0          0  ...       M      6                  1   \n",
      "2                 19.0          0  ...       M      0                  2   \n",
      "3                 81.0          0  ...       M      6                  1   \n",
      "4                 16.0          0  ...       F     12                  2   \n",
      "...                ...        ...  ...     ...    ...                ...   \n",
      "165104           130.0          0  ...       M      1                  0   \n",
      "165105           115.0          0  ...       M      9                  0   \n",
      "165106            51.0          0  ...       M      3                  0   \n",
      "165107            46.0          0  ...       F      7                  2   \n",
      "165108           242.0          0  ...       M     12                  0   \n",
      "\n",
      "        imd_band age_band num_of_prev_attempts  studied_credits  disability  \\\n",
      "0         70-80%    35-55                    0             60.0           N   \n",
      "1         70-80%    35-55                    0             60.0           N   \n",
      "2         60-70%     0-35                    0             30.0           N   \n",
      "3         40-50%    35-55                    0             60.0           N   \n",
      "4         20-30%     0-35                    0             60.0           N   \n",
      "...          ...      ...                  ...              ...         ...   \n",
      "165104    70-80%     0-35                    0             60.0           Y   \n",
      "165105    50-60%     55<=                    0             60.0           N   \n",
      "165106    30-40%     0-35                    0             60.0           N   \n",
      "165107    30-40%    35-55                    0             60.0           N   \n",
      "165108     0-10%     0-35                    0            120.0           N   \n",
      "\n",
      "       date_registration  ValidatePass  \n",
      "0                  -45.0             0  \n",
      "1                  -82.0             1  \n",
      "2                  -22.0             1  \n",
      "3                  -24.0             0  \n",
      "4                 -203.0             1  \n",
      "...                  ...           ...  \n",
      "165104            -122.0             1  \n",
      "165105            -144.0             1  \n",
      "165106             -51.0             1  \n",
      "165107            -190.0             1  \n",
      "165108             -25.0             1  \n",
      "\n",
      "[165109 rows x 21 columns]\n"
     ]
    },
    {
     "name": "stdout",
     "output_type": "stream",
     "text": [
      "        code_module  code_presentation  date_assignment  sum_click  \\\n",
      "0                 5                  1              153        1.0   \n",
      "1                 3                  0              140        1.0   \n",
      "2                 4                  2              102        1.0   \n",
      "3                 3                  0                1        2.0   \n",
      "4                 3                  1              -15        1.0   \n",
      "...             ...                ...              ...        ...   \n",
      "165104            4                  3              228        2.0   \n",
      "165105            5                  1               20        8.0   \n",
      "165106            5                  2               40        4.0   \n",
      "165107            1                  1              -10        1.0   \n",
      "165108            5                  3               89        2.0   \n",
      "\n",
      "        activity_type  assessment_type  weight  module_presentation_length  \\\n",
      "0                  17                2    12.5                         268   \n",
      "1                  17                0     3.0                         240   \n",
      "2                  18                2    16.0                         241   \n",
      "3                  18                0     3.0                         240   \n",
      "4                   6                2    10.0                         261   \n",
      "...               ...              ...     ...                         ...   \n",
      "165104             11                2    28.0                         269   \n",
      "165105              6                0     0.0                         268   \n",
      "165106              6                2    12.5                         241   \n",
      "165107             18                2    18.0                         268   \n",
      "165108             15                0     0.0                         269   \n",
      "\n",
      "        date_submitted  is_banked  ...  gender region  highest_education  \\\n",
      "0                 17.0          0  ...       M      6                  1   \n",
      "1                173.0          0  ...       M      6                  1   \n",
      "2                 19.0          0  ...       M      0                  2   \n",
      "3                 81.0          0  ...       M      6                  1   \n",
      "4                 16.0          0  ...       F     12                  2   \n",
      "...                ...        ...  ...     ...    ...                ...   \n",
      "165104           130.0          0  ...       M      1                  0   \n",
      "165105           115.0          0  ...       M      9                  0   \n",
      "165106            51.0          0  ...       M      3                  0   \n",
      "165107            46.0          0  ...       F      7                  2   \n",
      "165108           242.0          0  ...       M     12                  0   \n",
      "\n",
      "        imd_band  age_band num_of_prev_attempts  studied_credits  disability  \\\n",
      "0              7     35-55                    0             60.0           N   \n",
      "1              7     35-55                    0             60.0           N   \n",
      "2              6      0-35                    0             30.0           N   \n",
      "3              4     35-55                    0             60.0           N   \n",
      "4              2      0-35                    0             60.0           N   \n",
      "...          ...       ...                  ...              ...         ...   \n",
      "165104         7      0-35                    0             60.0           Y   \n",
      "165105         5      55<=                    0             60.0           N   \n",
      "165106         3      0-35                    0             60.0           N   \n",
      "165107         3     35-55                    0             60.0           N   \n",
      "165108         0      0-35                    0            120.0           N   \n",
      "\n",
      "       date_registration  ValidatePass  \n",
      "0                  -45.0             0  \n",
      "1                  -82.0             1  \n",
      "2                  -22.0             1  \n",
      "3                  -24.0             0  \n",
      "4                 -203.0             1  \n",
      "...                  ...           ...  \n",
      "165104            -122.0             1  \n",
      "165105            -144.0             1  \n",
      "165106             -51.0             1  \n",
      "165107            -190.0             1  \n",
      "165108             -25.0             1  \n",
      "\n",
      "[165109 rows x 21 columns]\n",
      "        code_module  code_presentation  date_assignment  sum_click  \\\n",
      "0                 5                  1              153        1.0   \n",
      "1                 3                  0              140        1.0   \n",
      "2                 4                  2              102        1.0   \n",
      "3                 3                  0                1        2.0   \n",
      "4                 3                  1              -15        1.0   \n",
      "...             ...                ...              ...        ...   \n",
      "165104            4                  3              228        2.0   \n",
      "165105            5                  1               20        8.0   \n",
      "165106            5                  2               40        4.0   \n",
      "165107            1                  1              -10        1.0   \n",
      "165108            5                  3               89        2.0   \n",
      "\n",
      "        activity_type  assessment_type  weight  module_presentation_length  \\\n",
      "0                  17                2    12.5                         268   \n",
      "1                  17                0     3.0                         240   \n",
      "2                  18                2    16.0                         241   \n",
      "3                  18                0     3.0                         240   \n",
      "4                   6                2    10.0                         261   \n",
      "...               ...              ...     ...                         ...   \n",
      "165104             11                2    28.0                         269   \n",
      "165105              6                0     0.0                         268   \n",
      "165106              6                2    12.5                         241   \n",
      "165107             18                2    18.0                         268   \n",
      "165108             15                0     0.0                         269   \n",
      "\n",
      "        date_submitted  is_banked  ...  gender region  highest_education  \\\n",
      "0                 17.0          0  ...       M      6                  1   \n",
      "1                173.0          0  ...       M      6                  1   \n",
      "2                 19.0          0  ...       M      0                  2   \n",
      "3                 81.0          0  ...       M      6                  1   \n",
      "4                 16.0          0  ...       F     12                  2   \n",
      "...                ...        ...  ...     ...    ...                ...   \n",
      "165104           130.0          0  ...       M      1                  0   \n",
      "165105           115.0          0  ...       M      9                  0   \n",
      "165106            51.0          0  ...       M      3                  0   \n",
      "165107            46.0          0  ...       F      7                  2   \n",
      "165108           242.0          0  ...       M     12                  0   \n",
      "\n",
      "        imd_band  age_band  num_of_prev_attempts  studied_credits  disability  \\\n",
      "0              7         1                     0             60.0           N   \n",
      "1              7         1                     0             60.0           N   \n",
      "2              6         0                     0             30.0           N   \n",
      "3              4         1                     0             60.0           N   \n",
      "4              2         0                     0             60.0           N   \n",
      "...          ...       ...                   ...              ...         ...   \n",
      "165104         7         0                     0             60.0           Y   \n",
      "165105         5         2                     0             60.0           N   \n",
      "165106         3         0                     0             60.0           N   \n",
      "165107         3         1                     0             60.0           N   \n",
      "165108         0         0                     0            120.0           N   \n",
      "\n",
      "       date_registration  ValidatePass  \n",
      "0                  -45.0             0  \n",
      "1                  -82.0             1  \n",
      "2                  -22.0             1  \n",
      "3                  -24.0             0  \n",
      "4                 -203.0             1  \n",
      "...                  ...           ...  \n",
      "165104            -122.0             1  \n",
      "165105            -144.0             1  \n",
      "165106             -51.0             1  \n",
      "165107            -190.0             1  \n",
      "165108             -25.0             1  \n",
      "\n",
      "[165109 rows x 21 columns]\n",
      "        code_module  code_presentation  date_assignment  sum_click  \\\n",
      "0                 5                  1              153        1.0   \n",
      "1                 3                  0              140        1.0   \n",
      "2                 4                  2              102        1.0   \n",
      "3                 3                  0                1        2.0   \n",
      "4                 3                  1              -15        1.0   \n",
      "...             ...                ...              ...        ...   \n",
      "165104            4                  3              228        2.0   \n",
      "165105            5                  1               20        8.0   \n",
      "165106            5                  2               40        4.0   \n",
      "165107            1                  1              -10        1.0   \n",
      "165108            5                  3               89        2.0   \n",
      "\n",
      "        activity_type  assessment_type  weight  module_presentation_length  \\\n",
      "0                  17                2    12.5                         268   \n",
      "1                  17                0     3.0                         240   \n",
      "2                  18                2    16.0                         241   \n",
      "3                  18                0     3.0                         240   \n",
      "4                   6                2    10.0                         261   \n",
      "...               ...              ...     ...                         ...   \n",
      "165104             11                2    28.0                         269   \n",
      "165105              6                0     0.0                         268   \n",
      "165106              6                2    12.5                         241   \n",
      "165107             18                2    18.0                         268   \n",
      "165108             15                0     0.0                         269   \n",
      "\n",
      "        date_submitted  is_banked  ...  region highest_education  imd_band  \\\n",
      "0                 17.0          0  ...       6                 1         7   \n",
      "1                173.0          0  ...       6                 1         7   \n",
      "2                 19.0          0  ...       0                 2         6   \n",
      "3                 81.0          0  ...       6                 1         4   \n",
      "4                 16.0          0  ...      12                 2         2   \n",
      "...                ...        ...  ...     ...               ...       ...   \n",
      "165104           130.0          0  ...       1                 0         7   \n",
      "165105           115.0          0  ...       9                 0         5   \n",
      "165106            51.0          0  ...       3                 0         3   \n",
      "165107            46.0          0  ...       7                 2         3   \n",
      "165108           242.0          0  ...      12                 0         0   \n",
      "\n",
      "        age_band  num_of_prev_attempts  studied_credits  disability  \\\n",
      "0              1                     0             60.0           N   \n",
      "1              1                     0             60.0           N   \n",
      "2              0                     0             30.0           N   \n",
      "3              1                     0             60.0           N   \n",
      "4              0                     0             60.0           N   \n",
      "...          ...                   ...              ...         ...   \n",
      "165104         0                     0             60.0           Y   \n",
      "165105         2                     0             60.0           N   \n",
      "165106         0                     0             60.0           N   \n",
      "165107         1                     0             60.0           N   \n",
      "165108         0                     0            120.0           N   \n",
      "\n",
      "        date_registration ValidatePass  final_result  \n",
      "0                   -45.0            0             3  \n",
      "1                   -82.0            1             2  \n",
      "2                   -22.0            1             2  \n",
      "3                   -24.0            0             1  \n",
      "4                  -203.0            1             2  \n",
      "...                   ...          ...           ...  \n",
      "165104             -122.0            1             0  \n",
      "165105             -144.0            1             0  \n",
      "165106              -51.0            1             2  \n",
      "165107             -190.0            1             2  \n",
      "165108              -25.0            1             0  \n",
      "\n",
      "[165109 rows x 22 columns]\n"
     ]
    }
   ],
   "source": [
    "from sklearn import preprocessing\n",
    "\n",
    "vars = ['code_module',\n",
    "'code_presentation',\n",
    "'activity_type',\n",
    "'assessment_type',\n",
    "'region',\n",
    "'highest_education',\n",
    "'imd_band',\n",
    "'age_band',\n",
    "'final_result']\n",
    "\n",
    "label_encoder = preprocessing.LabelEncoder()\n",
    "\n",
    "for i in vars:\n",
    "    Modeldf[i]= label_encoder.fit_transform(df[i])\n",
    "    print(Modeldf)\n",
    "\n"
   ]
  },
  {
   "cell_type": "code",
   "execution_count": 33,
   "metadata": {},
   "outputs": [],
   "source": [
    "Modeldf['gender'] = Modeldf['gender'].map({'M': 1, 'F':0})\n",
    "Modeldf['disability'] = Modeldf['disability'].map({'Y': 1, 'N':0})"
   ]
  },
  {
   "cell_type": "code",
   "execution_count": 34,
   "metadata": {},
   "outputs": [
    {
     "name": "stdout",
     "output_type": "stream",
     "text": [
      "<class 'pandas.core.frame.DataFrame'>\n",
      "RangeIndex: 165109 entries, 0 to 165108\n",
      "Data columns (total 22 columns):\n",
      " #   Column                      Non-Null Count   Dtype  \n",
      "---  ------                      --------------   -----  \n",
      " 0   code_module                 165109 non-null  int32  \n",
      " 1   code_presentation           165109 non-null  int32  \n",
      " 2   date_assignment             165109 non-null  int64  \n",
      " 3   sum_click                   165109 non-null  float64\n",
      " 4   activity_type               165109 non-null  int32  \n",
      " 5   assessment_type             165109 non-null  int32  \n",
      " 6   weight                      165109 non-null  float64\n",
      " 7   module_presentation_length  165109 non-null  int64  \n",
      " 8   date_submitted              165109 non-null  float64\n",
      " 9   is_banked                   165109 non-null  int64  \n",
      " 10  score                       165109 non-null  float64\n",
      " 11  gender                      165109 non-null  int64  \n",
      " 12  region                      165109 non-null  int32  \n",
      " 13  highest_education           165109 non-null  int32  \n",
      " 14  imd_band                    165109 non-null  int32  \n",
      " 15  age_band                    165109 non-null  int32  \n",
      " 16  num_of_prev_attempts        165109 non-null  int64  \n",
      " 17  studied_credits             165109 non-null  float64\n",
      " 18  disability                  165109 non-null  int64  \n",
      " 19  date_registration           165109 non-null  float64\n",
      " 20  ValidatePass                165109 non-null  int64  \n",
      " 21  final_result                165109 non-null  int32  \n",
      "dtypes: float64(6), int32(9), int64(7)\n",
      "memory usage: 22.0 MB\n"
     ]
    }
   ],
   "source": [
    "Modeldf.info()"
   ]
  },
  {
   "cell_type": "code",
   "execution_count": 35,
   "metadata": {},
   "outputs": [
    {
     "data": {
      "text/plain": [
       "0"
      ]
     },
     "execution_count": 35,
     "metadata": {},
     "output_type": "execute_result"
    }
   ],
   "source": [
    "Modeldf.isnull().sum().sum()"
   ]
  },
  {
   "cell_type": "code",
   "execution_count": 38,
   "metadata": {},
   "outputs": [],
   "source": [
    "import pandas as pd;import warnings\n",
    "warnings.filterwarnings('ignore')\n",
    "\n",
    "import pandas as pd\n",
    "import numpy as np\n",
    "import matplotlib.pyplot as plt\n",
    "import seaborn as sns\n",
    "from sklearn.metrics import f1_score, roc_auc_score,roc_curve,accuracy_score, recall_score, confusion_matrix,classification_report, precision_score, roc_auc_score\n",
    "from sklearn.model_selection import train_test_split, GridSearchCV, RandomizedSearchCV\n",
    "from sklearn.tree import DecisionTreeClassifier\n",
    "from xgboost import XGBClassifier\n",
    "from sklearn.ensemble import RandomForestClassifier\n",
    "from sklearn.pipeline import Pipeline\n",
    "from sklearn.preprocessing import OneHotEncoder, LabelEncoder, MinMaxScaler, StandardScaler, RobustScaler\n",
    "from sklearn.compose import ColumnTransformer\n",
    "from sklearn.linear_model import LogisticRegression\n",
    "from sklearn.neighbors import KNeighborsClassifier\n",
    "from sklearn.discriminant_analysis import LinearDiscriminantAnalysis\n",
    "from sklearn.naive_bayes import GaussianNB\n",
    "\n",
    "from IPython.display import HTML \n",
    "from sklearn.metrics import precision_recall_fscore_support as score"
   ]
  },
  {
   "cell_type": "code",
   "execution_count": 39,
   "metadata": {},
   "outputs": [],
   "source": [
    "def display_dataframe(df):\n",
    "    numeric_col_mask = df.dtypes.apply(lambda d: issubclass(np.dtype(d).type, np.number))\n",
    "\n",
    "    # Dict used to center the table headers\n",
    "    d = dict(selector=\"th\",\n",
    "        props=[('text-align', 'center')])\n",
    "\n",
    "    # Style\n",
    "    display(df.style.set_properties(subset=df.columns[numeric_col_mask], # right-align the numeric columns and set their width\n",
    "                            **{'width':'5em', 'height':'3em','text-align':'right','border-color': 'white','border-style' :'solid'})\\\n",
    "            .set_properties(subset=df.columns[~numeric_col_mask], # left-align the non-numeric columns and set their width\n",
    "                            **{'width':'5em', 'text-align':'left'})\\\n",
    "            .format(lambda x: '{:,.0f}'.format(x) if x > 1e3 else '{:,.2f}'.format(x), # format the numeric values\n",
    "                    subset=pd.IndexSlice[:,df.columns[numeric_col_mask]])\\\n",
    "            .hide_index()\\\n",
    "#            .highlight_max('color: green')\\\n",
    "            .set_table_styles([d])) # center the header"
   ]
  },
  {
   "cell_type": "code",
   "execution_count": 40,
   "id": "billion-reality",
   "metadata": {
    "gradient": {
     "editing": false
    }
   },
   "outputs": [],
   "source": [
    "#AUC and ROC Value\n",
    "def roc_model(model_name,x,y):\n",
    "    # predict probabilities\n",
    "    probs = model_name.predict_proba(x)\n",
    "    # keep probabilities for the positive outcome only\n",
    "    probs = probs[:, 1]\n",
    "    # calculate AUC\n",
    "    from sklearn.metrics import roc_auc_score\n",
    "    auc = roc_auc_score(y, probs)\n",
    "    fpr, tpr, _ = roc_curve(y, probs)\n",
    "    return probs,auc,fpr,tpr"
   ]
  },
  {
   "cell_type": "code",
   "execution_count": 41,
   "id": "scheduled-purple",
   "metadata": {
    "gradient": {
     "editing": false
    }
   },
   "outputs": [],
   "source": [
    "def con_mat(y_train,y_predict_train,y_test,y_predict_test):\n",
    "    fig, axis=plt.subplots(nrows=1,ncols=2)\n",
    "    fig.set_size_inches(10,4)\n",
    "    fig.tight_layout()\n",
    "\n",
    "    cm=confusion_matrix(y_train,y_predict_train,labels=[0, 1])\n",
    "\n",
    "    df_cm = pd.DataFrame(cm, index = [i for i in [\"Fail\",\"Pass\"]],\n",
    "    columns = [i for i in [\"Fail\",\"Pass\"]])\n",
    "    sns.heatmap(df_cm, annot=True ,fmt='g',ax=axis[0])\n",
    "    axis[0].title.set_text('Confustion Matrix - Train Data')\n",
    "\n",
    "    cm=confusion_matrix(y_test,y_predict_test,labels=[0, 1])\n",
    "\n",
    "    df_cm = pd.DataFrame(cm, index = [i for i in [\"Fail\",\"Pass\"]],\n",
    "    columns = [i for i in [\"Fail\",\"Pass\"]])\n",
    "    sns.heatmap(df_cm, annot=True ,fmt='g',ax=axis[1])\n",
    "    axis[1].title.set_text('Confustion Matrix - Test Data')"
   ]
  },
  {
   "cell_type": "code",
   "execution_count": 42,
   "id": "genetic-maker",
   "metadata": {
    "gradient": {
     "editing": false
    }
   },
   "outputs": [],
   "source": [
    "def scores_train_test(model,X_train,X_test,y_train,y_test,y_predict_train,y_predict_test,mname,model_name):\n",
    "    #model=bgcl\n",
    "    from IPython.display import HTML \n",
    "    from sklearn.metrics import precision_recall_fscore_support as score\n",
    "\n",
    "    s = [[None for j in range(6)] for i in range(2)]\n",
    "\n",
    "    print(model_name)\n",
    "    print('********************************\\n')\n",
    "\n",
    "    #model_name = str(model).split('(')[0]\n",
    "    s[0][0] = model_name + '_' + mname +'_Train'\n",
    "    s[1][0] = model_name + '_' + mname +'_Test'\n",
    "    \n",
    "    report_train = classification_report(y_train, y_predict_train, output_dict=True)\n",
    "    report_test = classification_report(y_test, y_predict_test, output_dict=True)\n",
    "\n",
    "    s[0][1]=round(report_train['1']['precision']*100,2)\n",
    "    s[1][1]=round(report_test['1']['precision']*100,2)\n",
    "\n",
    "    s[0][2]=round(report_train['1']['recall']*100,2)\n",
    "    s[1][2]=round(report_test['1']['recall']*100,2)\n",
    "\n",
    "    s[0][3]=round(report_train['1']['f1-score']*100,2)\n",
    "    s[1][3]=round(report_test['1']['f1-score']*100,2)\n",
    "\n",
    "    s[0][4]=round(report_train['accuracy']*100,2)\n",
    "    s[1][4]=round(report_test['accuracy']*100,2)\n",
    "\n",
    "    probs, auc, fpr, tpr = roc_model(model,X_train,y_train)\n",
    "    probst, auc1, fpr1, tpr1 = roc_model(model,X_test,y_test)\n",
    "\n",
    "    s[0][5]=round(auc*100,2)\n",
    "    s[1][5]=round(auc1*100,2)\n",
    "\n",
    "    df = pd.DataFrame(data=s,columns=['Scores','Precision','Recall','F-Score','Accuracy','AUC'])\n",
    "\n",
    "    con_mat(y_train,y_predict_train,y_test,y_predict_test)\n",
    "\n",
    "    plt.figure(figsize=(5,5))\n",
    "\n",
    "    plt.plot(fpr,tpr, marker='o', label='AUC - Train:' + str(s[0][5]))\n",
    "    plt.plot(fpr1,tpr1, marker='o', label='AUC - Test:' + str(s[1][5]))\n",
    "\n",
    "    plt.legend(loc=\"lower right\")\n",
    "    plt.plot([0, 1], [0, 1], linestyle='--')\n",
    "    plt.xlabel('False Positive Rate')\n",
    "    plt.ylabel('True Positive Rate')\n",
    "    plt.title('ROC')\n",
    "\n",
    "    display_dataframe(df)\n",
    "    return(df)"
   ]
  },
  {
   "cell_type": "code",
   "execution_count": 43,
   "id": "virtual-summer",
   "metadata": {
    "gradient": {}
   },
   "outputs": [],
   "source": [
    "def con_mat_r(y_train,y_predict_train,y_test,y_predict_test,nc,he,wi,tit):\n",
    "    nc = len(y_predict_train)\n",
    "\n",
    "    fig, axis=plt.subplots(nrows=nc,ncols=2)\n",
    "    fig.set_size_inches(he,wi)\n",
    "    fig.tight_layout()\n",
    "\n",
    "    \n",
    "    c=0\n",
    "    for i in y_predict_train:\n",
    "        cm=confusion_matrix(y_train,i,labels=[0, 1])\n",
    "\n",
    "        df_cm = pd.DataFrame(cm, index = [i for i in [\"Fail\",\"Pass\"]],\n",
    "        columns = [i for i in [\"Fail\",\"Pass\"]])\n",
    "\n",
    "        sns.heatmap(df_cm, annot=True ,fmt='g',ax=axis[c][0])\n",
    "        axis[c][0].title.set_text(tit[c] + ' - Train Data')\n",
    "        c=c+1\n",
    "\n",
    "    c=0\n",
    "    for i in y_predict_test:\n",
    "        cm=confusion_matrix(y_test,i,labels=[0, 1])\n",
    "\n",
    "        df_cm = pd.DataFrame(cm, index = [i for i in [\"Fail\",\"Pass\"]],\n",
    "        columns = [i for i in [\"Fail\",\"Pass\"]])\n",
    "\n",
    "        sns.heatmap(df_cm, annot=True ,fmt='g',ax=axis[c][1])\n",
    "        axis[c][1].title.set_text(tit[c] + ' - Test Data')\n",
    "        c=c+1\n"
   ]
  },
  {
   "cell_type": "markdown",
   "id": "brief-concert",
   "metadata": {
    "gradient": {
     "editing": false
    }
   },
   "source": [
    "### Split the data for training and testing"
   ]
  },
  {
   "cell_type": "code",
   "execution_count": 44,
   "metadata": {},
   "outputs": [],
   "source": [
    "X = Modeldf.drop('ValidatePass',axis=1)\n",
    "y = Modeldf['ValidatePass']"
   ]
  },
  {
   "cell_type": "code",
   "execution_count": null,
   "metadata": {},
   "outputs": [],
   "source": [
    "# from imblearn.over_sampling import SMOTE\n",
    "\n",
    "# sm = SMOTE(random_state=9)\n",
    "# X_full, y_full = sm.fit_resample(X,y.ravel())\n",
    "\n",
    "# print('After OverSampling, the shape of train_X: {}'.format(X_full.shape))\n",
    "# print('After OverSampling, the shape of train_y: {} \\n'.format(y_full.shape))\n",
    " \n",
    "# print(\"After OverSampling, counts of label '1': {}\".format(sum(y_full == 1)))\n",
    "# print(\"After OverSampling, counts of label '0': {}\".format(sum(y_full == 0)))"
   ]
  },
  {
   "cell_type": "code",
   "execution_count": 45,
   "metadata": {},
   "outputs": [],
   "source": [
    "X_train, X_test, y_train, y_test = train_test_split(X,y,stratify=y,test_size=0.15,random_state=9)\n",
    "#X_train, X_test, y_train, y_test = train_test_split(X_full,y_full,stratify=y_full,test_size=0.15,random_state=9)"
   ]
  },
  {
   "cell_type": "markdown",
   "metadata": {},
   "source": [
    "### Oversample using SMOTE"
   ]
  },
  {
   "cell_type": "code",
   "execution_count": null,
   "metadata": {},
   "outputs": [],
   "source": [
    "#pip install imblearn"
   ]
  },
  {
   "cell_type": "code",
   "execution_count": null,
   "metadata": {},
   "outputs": [],
   "source": [
    "# from imblearn.over_sampling import SMOTE\n",
    "\n",
    "# sm = SMOTE(random_state=9)\n",
    "# X_train_res, y_train_res = sm.fit_resample(X_train,y_train.ravel())\n",
    "\n",
    "# print('After OverSampling, the shape of train_X: {}'.format(X_train_res.shape))\n",
    "# print('After OverSampling, the shape of train_y: {} \\n'.format(y_train_res.shape))\n",
    " \n",
    "# print(\"After OverSampling, counts of label '1': {}\".format(sum(y_train_res == 1)))\n",
    "# print(\"After OverSampling, counts of label '0': {}\".format(sum(y_train_res == 0)))"
   ]
  },
  {
   "cell_type": "code",
   "execution_count": 46,
   "id": "verified-musician",
   "metadata": {
    "gradient": {
     "editing": false
    }
   },
   "outputs": [
    {
     "data": {
      "text/plain": [
       "(24767, 21)"
      ]
     },
     "execution_count": 46,
     "metadata": {},
     "output_type": "execute_result"
    }
   ],
   "source": [
    "X_test.shape"
   ]
  },
  {
   "cell_type": "code",
   "execution_count": 47,
   "id": "sticky-agenda",
   "metadata": {
    "gradient": {
     "editing": false
    }
   },
   "outputs": [],
   "source": [
    "from sklearn.preprocessing import StandardScaler\n",
    "\n",
    "scaler = StandardScaler()"
   ]
  },
  {
   "cell_type": "code",
   "execution_count": 48,
   "id": "boxed-buffalo",
   "metadata": {
    "gradient": {
     "editing": false
    }
   },
   "outputs": [],
   "source": [
    "sc_train = scaler.fit_transform(X_train)\n",
    "X_train_sc = pd.DataFrame(sc_train, index=X_train.index, columns=X_train.columns)"
   ]
  },
  {
   "cell_type": "code",
   "execution_count": 49,
   "id": "chronic-phase",
   "metadata": {
    "gradient": {
     "editing": false
    }
   },
   "outputs": [],
   "source": [
    "sc_test = psc_test = scaler.transform(X_test)\n",
    "X_test_sc = pd.DataFrame(sc_test, index=X_test.index, columns=X_test.columns)"
   ]
  },
  {
   "cell_type": "code",
   "execution_count": 50,
   "id": "august-brick",
   "metadata": {
    "gradient": {
     "editing": false
    }
   },
   "outputs": [],
   "source": [
    "# invoke the LinearRegression function\n",
    "lgr_model = LogisticRegression(random_state=0)\n",
    "lgr_model.fit(X_train_sc,y_train)\n",
    "\n",
    "lgr_train=lgr_model.predict(X_train_sc)\n",
    "lgr_test=lgr_model.predict(X_test_sc)\n",
    "#lgr_model.fit(X_train,y_train)\n",
    "\n",
    "#lgr_train=lgr_model.predict(X_train)\n",
    "#lgr_test=lgr_model.predict(X_test)"
   ]
  },
  {
   "cell_type": "code",
   "execution_count": 51,
   "id": "metallic-enterprise",
   "metadata": {
    "gradient": {
     "editing": false
    }
   },
   "outputs": [
    {
     "name": "stdout",
     "output_type": "stream",
     "text": [
      "LogisticRegression\n",
      "********************************\n",
      "\n"
     ]
    },
    {
     "data": {
      "text/html": [
       "<style  type=\"text/css\" >\n",
       "    #T_174e9_ th {\n",
       "          text-align: center;\n",
       "    }#T_174e9_row0_col0,#T_174e9_row1_col0{\n",
       "            width:  5em;\n",
       "            text-align:  left;\n",
       "        }#T_174e9_row0_col1,#T_174e9_row0_col2,#T_174e9_row0_col3,#T_174e9_row0_col4,#T_174e9_row0_col5,#T_174e9_row1_col1,#T_174e9_row1_col2,#T_174e9_row1_col3,#T_174e9_row1_col4,#T_174e9_row1_col5{\n",
       "            width:  5em;\n",
       "            height:  3em;\n",
       "            text-align:  right;\n",
       "            border-color:  white;\n",
       "            border-style:  solid;\n",
       "        }</style><table id=\"T_174e9_\" ><thead>    <tr>        <th class=\"col_heading level0 col0\" >Scores</th>        <th class=\"col_heading level0 col1\" >Precision</th>        <th class=\"col_heading level0 col2\" >Recall</th>        <th class=\"col_heading level0 col3\" >F-Score</th>        <th class=\"col_heading level0 col4\" >Accuracy</th>        <th class=\"col_heading level0 col5\" >AUC</th>    </tr></thead><tbody>\n",
       "                <tr>\n",
       "                                <td id=\"T_174e9_row0_col0\" class=\"data row0 col0\" >LogisticRegression_Base_Train</td>\n",
       "                        <td id=\"T_174e9_row0_col1\" class=\"data row0 col1\" >88.02</td>\n",
       "                        <td id=\"T_174e9_row0_col2\" class=\"data row0 col2\" >98.51</td>\n",
       "                        <td id=\"T_174e9_row0_col3\" class=\"data row0 col3\" >92.97</td>\n",
       "                        <td id=\"T_174e9_row0_col4\" class=\"data row0 col4\" >87.13</td>\n",
       "                        <td id=\"T_174e9_row0_col5\" class=\"data row0 col5\" >78.37</td>\n",
       "            </tr>\n",
       "            <tr>\n",
       "                                <td id=\"T_174e9_row1_col0\" class=\"data row1 col0\" >LogisticRegression_Base_Test</td>\n",
       "                        <td id=\"T_174e9_row1_col1\" class=\"data row1 col1\" >88.13</td>\n",
       "                        <td id=\"T_174e9_row1_col2\" class=\"data row1 col2\" >98.57</td>\n",
       "                        <td id=\"T_174e9_row1_col3\" class=\"data row1 col3\" >93.06</td>\n",
       "                        <td id=\"T_174e9_row1_col4\" class=\"data row1 col4\" >87.29</td>\n",
       "                        <td id=\"T_174e9_row1_col5\" class=\"data row1 col5\" >78.72</td>\n",
       "            </tr>\n",
       "    </tbody></table>"
      ],
      "text/plain": [
       "<pandas.io.formats.style.Styler at 0x251ef401e20>"
      ]
     },
     "metadata": {},
     "output_type": "display_data"
    },
    {
     "data": {
      "image/png": "[encoded data removed]",
      "text/plain": [
       "<Figure size 720x288 with 4 Axes>"
      ]
     },
     "metadata": {
      "needs_background": "light"
     },
     "output_type": "display_data"
    },
    {
     "data": {
      "image/png": "[encoded data removed]",
      "text/plain": [
       "<Figure size 360x360 with 1 Axes>"
      ]
     },
     "metadata": {
      "needs_background": "light"
     },
     "output_type": "display_data"
    }
   ],
   "source": [
    "res_df = scores_train_test(lgr_model,X_train_sc,X_test_sc,y_train,y_test,lgr_train,lgr_test,'Base','LogisticRegression')"
   ]
  },
  {
   "cell_type": "code",
   "execution_count": 52,
   "metadata": {},
   "outputs": [],
   "source": [
    "import pickle\n",
    "\n",
    "lgr_model_file = 'lgr_model.pkl'\n",
    "\n",
    "with open(lgr_model_file,'wb') as f:\n",
    "    pickle.dump(lgr_model, f)\n",
    "    "
   ]
  },
  {
   "cell_type": "code",
   "execution_count": null,
   "metadata": {},
   "outputs": [],
   "source": []
  }
 ],
 "metadata": {
  "interpreter": {
   "hash": "6218d02b8cbd5c2d4a011a79aeaea142df1edd312b0d97cbc6f9df3783a7e612"
  },
  "kernelspec": {
   "display_name": "Python 3",
   "language": "python",
   "name": "python3"
  },
  "language_info": {
   "codemirror_mode": {
    "name": "ipython",
    "version": 3
   },
   "file_extension": ".py",
   "mimetype": "text/x-python",
   "name": "python",
   "nbconvert_exporter": "python",
   "pygments_lexer": "ipython3",
   "version": "3.8.8"
  }
 },
 "nbformat": 4,
 "nbformat_minor": 2
}
